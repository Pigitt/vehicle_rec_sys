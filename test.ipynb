{
 "cells": [
  {
   "cell_type": "code",
   "execution_count": null,
   "metadata": {},
   "outputs": [],
   "source": [
    "import requests\n",
    "import json\n",
    "from csv import reader \n",
    "import os\n",
    "import sys\n",
    "from bs4 import BeautifulSoup\n",
    "import time\n",
    "import random\n",
    "from lxml import etree\n",
    "import os\n",
    "import re\n",
    "import datetime\n",
    "# # from selenium import webdriver\n"
   ]
  },
  {
   "cell_type": "code",
   "execution_count": null,
   "metadata": {},
   "outputs": [],
   "source": [
    "nowTime = datetime.datetime.now().strftime('%Y%m%d%H%M%S')"
   ]
  },
  {
   "cell_type": "code",
   "execution_count": null,
   "metadata": {},
   "outputs": [],
   "source": [
    "# year = ['2014','2015','2016','2017','2018','2019','2020','2021','2022']\n",
    "domain = 'https://www.caranddriver.com'\n",
    "headers = {\n",
    "        'Accept': '*/*',\n",
    "        'Accept-Encoding': 'gzip, deflate, br',\n",
    "        'Host':'www.kbb.com',\n",
    "        'Referer':'https://www.kbb.com/car-reviews/',\n",
    "        'Content-Type':'application/json',\n",
    "        'User-Agent':'Mozilla/5.0 (Windows NT 10.0; Win64; x64) AppleWebKit/537.36 (KHTML, like Gecko) Chrome/99.0.4844.51 Safari/537.36'\n",
    "        }"
   ]
  },
  {
   "cell_type": "code",
   "execution_count": null,
   "metadata": {},
   "outputs": [],
   "source": [
    "response = requests.get(url=domain)\n",
    "soup= BeautifulSoup(response.text, \"lxml\")\n",
    "soup.select('option[class=\"css-0 e1ofnlcl0\"]')"
   ]
  },
  {
   "cell_type": "code",
   "execution_count": null,
   "metadata": {},
   "outputs": [],
   "source": [
    "make=[\n",
    "# 'Acura',\n",
    "# 'AlfaRomeo',\n",
    "# 'AstonMartin',\n",
    "# 'Audi',\n",
    "# 'Bentley',\n",
    "# 'BMW',\n",
    "# 'Bollinger',\n",
    "# 'Bugatti',\n",
    "# 'Buick',\n",
    "# 'Byton',\n",
    "# 'Cadillac',\n",
    "# 'Chevrolet',\n",
    "# 'Chrysler',\n",
    "# 'Dodge',\n",
    "# 'Ferrari',\n",
    "'Fiat'#,\n",
    "# 'Fisker',\n",
    "# 'Ford',\n",
    "# 'Genesis',\n",
    "# 'GMC',\n",
    "# 'Honda',\n",
    "# 'Hummer',\n",
    "# 'Hyundai',\n",
    "# 'Infiniti',\n",
    "# 'Jaguar',\n",
    "# 'Jeep',\n",
    "# 'Karma',\n",
    "# 'Kia',\n",
    "# 'Koenigsegg',\n",
    "# 'Lamborghini',\n",
    "# 'LandRover',\n",
    "# 'Lexus',\n",
    "# 'Lincoln',\n",
    "# 'Lordstown',\n",
    "# 'Lotus',\n",
    "# 'LucidMotors',\n",
    "# 'Maserati',\n",
    "# 'Maybach',\n",
    "# 'Mazda',\n",
    "# 'McLaren',\n",
    "# 'Mercedes-AMG',\n",
    "# 'Mercedes-Benz',\n",
    "# 'Mercedes-Maybach',\n",
    "# 'Mercury',\n",
    "# 'Mini',\n",
    "# 'Mitsubishi',\n",
    "# 'Nikola',\n",
    "# 'Nissan',\n",
    "# 'Pagani',\n",
    "# 'Polestar',\n",
    "# 'Pontiac',\n",
    "# 'Porsche',\n",
    "# 'Ram',\n",
    "# 'Rivian',\n",
    "# 'Rolls-Royce',\n",
    "# 'Saab',\n",
    "# 'Saturn',\n",
    "# 'Scion',\n",
    "# 'Scout',\n",
    "# 'Smart',\n",
    "# 'Spyker',\n",
    "# 'Subaru',\n",
    "# 'Suzuki',\n",
    "# 'Tesla',\n",
    "# 'Toyota',\n",
    "# 'VinFast',\n",
    "# 'Volkswagen',\n",
    "# 'Volvo'\n",
    "]"
   ]
  },
  {
   "cell_type": "code",
   "execution_count": null,
   "metadata": {},
   "outputs": [],
   "source": [
    "# get url for Specs & Rate\n",
    "for m in make:\n",
    "    url_main=domain+'/'+m.lower()\n",
    "    # print(url_main)\n",
    "    response = requests.get(url=url_main)\n",
    "    soup=soup= BeautifulSoup(response.text, \"lxml\")\n",
    "    href=soup.select('a[class=\"vehicle-item-title item-title\"]')\n",
    "    vehicle={}\n",
    "    for u in href:\n",
    "        url_each=domain+u.get('href')\n",
    "        # print(url_each)\n",
    "        response = requests.get(url=url_each)\n",
    "        soup= BeautifulSoup(response.text, \"lxml\")\n",
    "        name=soup.select('h1[class=\"css-i4j13t e10ise8i2\"]')[0].text\n",
    "        vehicle[name]={\n",
    "            'year':re.findall('(^\\d{4})',name)[0],\n",
    "            'make':re.findall('[^ ]+',name)[1],\n",
    "            'model':' '.join(re.findall('[^ ]+',name)[2:]),\n",
    "            'kbb_url':'https://www.kbb.com'+'/'+re.findall('[^ ]+',name)[1].lower()+'/'+' '.join(re.findall('[^ ]+',name)[2:]).replace(' ','-')+'/'+re.findall('(^\\d{4})',name)[0]+'/consumer-reviews'\n",
    "            }\n",
    "        try:\n",
    "            vehicle[name]['cnd_url']=domain+soup.select('#main-content > header > div.css-16uv341.endngjl0 > div.css-70qvj9.e17a0kax2 > div > a[title=\"Specs\"]')[0].attrs['href']\n",
    "        except IndexError:\n",
    "            pass    "
   ]
  },
  {
   "cell_type": "code",
   "execution_count": null,
   "metadata": {},
   "outputs": [],
   "source": [
    "# test\n",
    "url='https://www.caranddriver.com/acura/mdx/specs/2020/acura_mdx_acura-mdx_2020'\n",
    "response = requests.get(url=url)\n",
    "soup= BeautifulSoup(response.text, \"lxml\")"
   ]
  },
  {
   "cell_type": "code",
   "execution_count": null,
   "metadata": {},
   "outputs": [],
   "source": [
    "specs={}\n",
    "for i in soup.select('div[class=\"css-qgjj1l e17ofjz23\"]'):\n",
    "    print(i.select('button[class=\"css-17t01md e17ofjz22\"]')[0].text)\n",
    "    specs[i.select('button[class=\"css-17t01md e17ofjz22\"]')[0].text]={}\n",
    "    list=[]\n",
    "    for j in i.select('div[class=\"css-1ajawdl e2zahha0\"]'):\n",
    "        try:\n",
    "            specs[i.select('button[class=\"css-17t01md e17ofjz22\"]')[0].text][j.contents[0].text]=j.contents[1].text\n",
    "            # print(j.contents[0].text,j.contents[1].text)\n",
    "        except IndexError:\n",
    "            list.append(j.contents[0].text)\n",
    "            print(j.contents[0].text)\n",
    "            specs[i.select('button[class=\"css-17t01md e17ofjz22\"]')[0].text]=list"
   ]
  },
  {
   "cell_type": "code",
   "execution_count": null,
   "metadata": {},
   "outputs": [],
   "source": [
    "soup.select('div[class=\"css-1ajawdl e2zahha0\"]')[0].contents[1].text\n",
    "soup.select('div[class=\"css-1ajawdl e2zahha0\"]')[0].contents[0].text"
   ]
  },
  {
   "cell_type": "code",
   "execution_count": null,
   "metadata": {},
   "outputs": [],
   "source": [
    "str='https://www.kbb.com/fiat/500x/2022/consumer-reviews'\n",
    "re.findall('^(.*[\\\\\\/])',str) #获取/后所有\n",
    "re.findall('[^/]+(?!.*/)',str)#获取/前所有"
   ]
  },
  {
   "cell_type": "code",
   "execution_count": null,
   "metadata": {},
   "outputs": [],
   "source": [
    "time.sleep(5)"
   ]
  }
 ],
 "metadata": {
  "kernelspec": {
   "display_name": "Python 3.8.10 64-bit (windows store)",
   "language": "python",
   "name": "python3"
  },
  "language_info": {
   "codemirror_mode": {
    "name": "ipython",
    "version": 3
   },
   "file_extension": ".py",
   "mimetype": "text/x-python",
   "name": "python",
   "nbconvert_exporter": "python",
   "pygments_lexer": "ipython3",
   "version": "3.8.10"
  },
  "orig_nbformat": 4,
  "vscode": {
   "interpreter": {
    "hash": "bd08989110d52af84f87ec250935dd398044127260cff0c49051c9d8cccd3a76"
   }
  }
 },
 "nbformat": 4,
 "nbformat_minor": 2
}
