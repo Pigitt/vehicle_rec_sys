{
 "cells": [
  {
   "cell_type": "code",
   "execution_count": null,
   "metadata": {},
   "outputs": [],
   "source": [
    "import requests\n",
    "import json\n",
    "from csv import reader \n",
    "import os\n",
    "import sys\n",
    "from bs4 import BeautifulSoup\n",
    "import time\n",
    "import random\n",
    "from lxml import etree\n",
    "import os\n",
    "import re\n",
    "import datetime\n",
    "# # from selenium import webdriver\n"
   ]
  },
  {
   "cell_type": "code",
   "execution_count": null,
   "metadata": {},
   "outputs": [],
   "source": [
    "nowTime = datetime.datetime.now().strftime('%Y%m%d%H%M%S')"
   ]
  },
  {
   "cell_type": "code",
   "execution_count": null,
   "metadata": {},
   "outputs": [],
   "source": [
    "# year = ['2014','2015','2016','2017','2018','2019','2020','2021','2022']\n",
    "domain = 'https://www.caranddriver.com'\n",
    "headers = {\n",
    "        'Accept': '*/*',\n",
    "        'Accept-Encoding': 'gzip, deflate, br',\n",
    "        'Host':'www.kbb.com',\n",
    "        'Referer':'https://www.kbb.com/car-reviews/',\n",
    "        'Content-Type':'application/json',\n",
    "        'User-Agent':'Mozilla/5.0 (Windows NT 10.0; Win64; x64) AppleWebKit/537.36 (KHTML, like Gecko) Chrome/99.0.4844.51 Safari/537.36'\n",
    "        }"
   ]
  },
  {
   "cell_type": "code",
   "execution_count": null,
   "metadata": {},
   "outputs": [],
   "source": [
    "response = requests.get(url=domain)\n",
    "soup= BeautifulSoup(response.text, \"lxml\")\n",
    "soup.select('option[class=\"css-0 e1ofnlcl0\"]')"
   ]
  },
  {
   "cell_type": "code",
   "execution_count": null,
   "metadata": {},
   "outputs": [],
   "source": [
    "make=[\n",
    "# 'Acura',\n",
    "# 'AlfaRomeo',\n",
    "# 'AstonMartin',\n",
    "# 'Audi',\n",
    "# 'Bentley',\n",
    "# 'BMW',\n",
    "# 'Bollinger',\n",
    "# 'Bugatti',\n",
    "# 'Buick',\n",
    "# 'Byton',\n",
    "# 'Cadillac',\n",
    "# 'Chevrolet',\n",
    "# 'Chrysler',\n",
    "# 'Dodge',\n",
    "# 'Ferrari',\n",
    "'Fiat'#,\n",
    "# 'Fisker',\n",
    "# 'Ford',\n",
    "# 'Genesis',\n",
    "# 'GMC',\n",
    "# 'Honda',\n",
    "# 'Hummer',\n",
    "# 'Hyundai',\n",
    "# 'Infiniti',\n",
    "# 'Jaguar',\n",
    "# 'Jeep',\n",
    "# 'Karma',\n",
    "# 'Kia',\n",
    "# 'Koenigsegg',\n",
    "# 'Lamborghini',\n",
    "# 'LandRover',\n",
    "# 'Lexus',\n",
    "# 'Lincoln',\n",
    "# 'Lordstown',\n",
    "# 'Lotus',\n",
    "# 'LucidMotors',\n",
    "# 'Maserati',\n",
    "# 'Maybach',\n",
    "# 'Mazda',\n",
    "# 'McLaren',\n",
    "# 'Mercedes-AMG',\n",
    "# 'Mercedes-Benz',\n",
    "# 'Mercedes-Maybach',\n",
    "# 'Mercury',\n",
    "# 'Mini',\n",
    "# 'Mitsubishi',\n",
    "# 'Nikola',\n",
    "# 'Nissan',\n",
    "# 'Pagani',\n",
    "# 'Polestar',\n",
    "# 'Pontiac',\n",
    "# 'Porsche',\n",
    "# 'Ram',\n",
    "# 'Rivian',\n",
    "# 'Rolls-Royce',\n",
    "# 'Saab',\n",
    "# 'Saturn',\n",
    "# 'Scion',\n",
    "# 'Scout',\n",
    "# 'Smart',\n",
    "# 'Spyker',\n",
    "# 'Subaru',\n",
    "# 'Suzuki',\n",
    "# 'Tesla',\n",
    "# 'Toyota',\n",
    "# 'VinFast',\n",
    "# 'Volkswagen',\n",
    "# 'Volvo'\n",
    "]"
   ]
  },
  {
   "cell_type": "code",
   "execution_count": null,
   "metadata": {},
   "outputs": [],
   "source": [
    "for m in make:\n",
    "    url_main=domain+'/'+m.lower()\n",
    "    # print(url_main)\n",
    "    response = requests.get(url=url_main)\n",
    "    soup=soup= BeautifulSoup(response.text, \"lxml\")\n",
    "    href=soup.select('a[class=\"vehicle-item-title item-title\"]')\n",
    "    for h in href:\n",
    "        url_each=h.get('href')\n",
    "        print(domain+url_each)"
   ]
  },
  {
   "cell_type": "code",
   "execution_count": 63,
   "metadata": {},
   "outputs": [],
   "source": [
    "url='https://www.caranddriver.com/fiat/500x'\n",
    "response = requests.get(url=url)\n",
    "soup= BeautifulSoup(response.text, \"lxml\")"
   ]
  },
  {
   "cell_type": "code",
   "execution_count": 64,
   "metadata": {},
   "outputs": [],
   "source": [
    "vehicle={}\n",
    "try:\n",
    "    vehicle={\n",
    "    'name':soup.select('h1[class=\"css-i4j13t e10ise8i2\"]')[0].text,\n",
    "    'url':soup.select('#main-content > header > div.css-16uv341.endngjl0 > div.css-70qvj9.e17a0kax2 > div > a[title=\"Specs\"]')[0].attrs['href']\n",
    "    }\n",
    "except IndexError:\n",
    "    pass"
   ]
  },
  {
   "cell_type": "code",
   "execution_count": 85,
   "metadata": {},
   "outputs": [
    {
     "data": {
      "text/plain": [
       "'2022'"
      ]
     },
     "execution_count": 85,
     "metadata": {},
     "output_type": "execute_result"
    }
   ],
   "source": [
    "str=soup.select('h1[class=\"css-i4j13t e10ise8i2\"]')[0].text\n",
    "year = re.findall('(^\\d{4})',str)[0]\n",
    "year"
   ]
  },
  {
   "cell_type": "code",
   "execution_count": 86,
   "metadata": {},
   "outputs": [],
   "source": [
    "str='2022 Fiat 500X'\n",
    "last=re.findall('[ ](.*)',str)[0].replace(' ','/').lower()\n",
    "url_back=last+'/'+year"
   ]
  },
  {
   "cell_type": "code",
   "execution_count": 88,
   "metadata": {},
   "outputs": [
    {
     "data": {
      "text/plain": [
       "'https://www.kbb.com/fiat/500x/2022'"
      ]
     },
     "execution_count": 88,
     "metadata": {},
     "output_type": "execute_result"
    }
   ],
   "source": [
    "url='https://www.kbb.com'+'/'+url_back\n",
    "url"
   ]
  },
  {
   "cell_type": "code",
   "execution_count": 89,
   "metadata": {},
   "outputs": [],
   "source": [
    "response = requests.get(url=url)"
   ]
  }
 ],
 "metadata": {
  "kernelspec": {
   "display_name": "Python 3.8.10 64-bit (windows store)",
   "language": "python",
   "name": "python3"
  },
  "language_info": {
   "codemirror_mode": {
    "name": "ipython",
    "version": 3
   },
   "file_extension": ".py",
   "mimetype": "text/x-python",
   "name": "python",
   "nbconvert_exporter": "python",
   "pygments_lexer": "ipython3",
   "version": "3.8.10"
  },
  "orig_nbformat": 4,
  "vscode": {
   "interpreter": {
    "hash": "bd08989110d52af84f87ec250935dd398044127260cff0c49051c9d8cccd3a76"
   }
  }
 },
 "nbformat": 4,
 "nbformat_minor": 2
}
