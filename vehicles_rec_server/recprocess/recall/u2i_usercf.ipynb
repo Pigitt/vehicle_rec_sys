{
 "cells": [
  {
   "cell_type": "code",
   "execution_count": null,
   "id": "b06bec9d",
   "metadata": {},
   "outputs": [],
   "source": [
    "import gc\n",
    "import os\n",
    "import math\n",
    "import pickle\n",
    "\n",
    "import numpy as np\n",
    "import pandas as pd\n",
    "from tqdm.auto import tqdm\n",
    "from operator import itemgetter\n",
    "\n",
    "from sklearn.utils import shuffle\n",
    "from collections import defaultdict\n",
    "\n",
    "# from metric import PrintMetric\n",
    "\n",
    "import warnings\n",
    "warnings.filterwarnings(\"ignore\")\n",
    "\n",
    "raw_data_path = 'D:/git/Pigitt/vehicle_rec_sys/off_data'\n",
    "new_data_path = 'D:/git/Pigitt/vehicle_rec_sys/recall_data'\n",
    "\n",
    "os.makedirs(new_data_path, exist_ok=True)"
   ]
  },
  {
   "cell_type": "code",
   "execution_count": null,
   "id": "4479018f",
   "metadata": {},
   "outputs": [],
   "source": [
    "user_info = pd.read_csv(raw_data_path + '/user_info.txt', sep='\\t') #, index_col=0\n",
    "user_info.columns = [\"user_id\", \"设备名称\", \"操作系统\", \"所在省\", \"所在市\", \"年龄\",\"性别\"]\n",
    "\n",
    "user_info.head()"
   ]
  },
  {
   "cell_type": "code",
   "execution_count": null,
   "id": "22d466d5",
   "metadata": {},
   "outputs": [],
   "source": [
    "doc_info = pd.read_table(raw_data_path + '/doc_info.txt', sep='\\t')\n",
    "doc_info.columns = [\"item_id\", \"标题\", \"发文时间\", \"图片数量\",  \"一级分类\", \"二级分类\", \"关键词\"]\n",
    "\n",
    "doc_info.head()"
   ]
  },
  {
   "cell_type": "code",
   "execution_count": null,
   "id": "7cf3ff94",
   "metadata": {},
   "outputs": [],
   "source": [
    "all_data = pd.read_csv(raw_data_path + '/train_data_30w.txt', sep='\\t')#, index_col=0\n",
    "all_data.columns = [\"user_id\", \"item_id\", \"展现时间\", \"网路环境\", \"刷新次数\", \"展现位置\", \"是否点击\", \"消费时长（秒）\"]\n",
    "\n",
    "# all_data.head()"
   ]
  },
  {
   "cell_type": "code",
   "execution_count": null,
   "metadata": {
    "collapsed": false,
    "pycharm": {
     "name": "#%%\n"
    }
   },
   "outputs": [],
   "source": [
    "all_data['展现时间'] = all_data['展现时间'].astype('str')\n",
    "all_data['展现时间'] = all_data['展现时间'].apply(lambda x: int(x[:10]))\n",
    "\n",
    "all_data['展现时间'] = pd.to_datetime(all_data['展现时间'], unit='s', errors='coerce')\n",
    "all_data['展现时间_日期'] = all_data['展现时间'].dt.day\n",
    "\n",
    "# all_data.head()"
   ]
  },
  {
   "cell_type": "code",
   "execution_count": null,
   "id": "73c9843e",
   "metadata": {},
   "outputs": [],
   "source": [
    "mode = 'debug'\n",
    "if mode == 'debug':\n",
    "    all_data = shuffle(all_data)\n",
    "    all_data.reset_index(drop=True)\n",
    "\n",
    "    train_data = all_data[(all_data['展现时间_日期'] >= 5) & (all_data['展现时间_日期'] < 6)]\n",
    "    test_data = all_data.loc[all_data['展现时间_日期'] == 6, :]\n",
    "else:\n",
    "    train_data = all_data[(all_data['展现时间_日期'] >= 1) & (all_data['展现时间_日期'] < 6)]\n",
    "    test_data = all_data.loc[all_data['展现时间_日期'] == 6, :]\n",
    "\n",
    "del all_data, doc_info, user_info\n",
    "gc.collect()"
   ]
  },
  {
   "cell_type": "code",
   "execution_count": null,
   "metadata": {
    "collapsed": false,
    "pycharm": {
     "name": "#%%\n"
    }
   },
   "outputs": [],
   "source": [
    "print(train_data['user_id'].nunique())\n",
    "print(train_data['item_id'].nunique())"
   ]
  },
  {
   "cell_type": "code",
   "execution_count": null,
   "id": "76bd2d8b",
   "metadata": {},
   "outputs": [],
   "source": [
    "item2users = train_data.groupby('item_id')['user_id'].apply(list).reset_index()"
   ]
  },
  {
   "cell_type": "code",
   "execution_count": null,
   "id": "dcce2f65",
   "metadata": {},
   "outputs": [],
   "source": [
    "item2users.head(1)"
   ]
  },
  {
   "cell_type": "code",
   "execution_count": null,
   "id": "e134c642",
   "metadata": {},
   "outputs": [],
   "source": [
    "user_set = set()\n",
    "item_set = set()\n",
    "user_sim_matrix = dict()\n",
    "user_interacted_num = defaultdict(int)\n",
    "item_interacted_num = defaultdict(int)  "
   ]
  },
  {
   "cell_type": "code",
   "execution_count": null,
   "id": "6f6add03",
   "metadata": {},
   "outputs": [],
   "source": [
    "pbar = tqdm(total=item2users.shape[0])\n",
    "for idx, row in item2users.iterrows():\n",
    "    item_set.add(row['item_id'])\n",
    "    user_set.update(row['user_id'])\n",
    "    item_interacted_num[row['item_id']] += len(row['user_id'])\n",
    "    for idx1, user_1 in enumerate(row['user_id']):\n",
    "        user_interacted_num[user_1] += 1\n",
    "        user_sim_matrix.setdefault(user_1, {})\n",
    "        for idx2, user_2 in enumerate(row['user_id']):\n",
    "            if user_1 == user_2:\n",
    "                continue\n",
    "            user_sim_matrix[user_1].setdefault(user_2, 0)\n",
    "            # 热门物品用在计算用户之间相似度时，贡献小于非热门物品\n",
    "            user_sim_matrix[user_1][user_2] += 1 / math.log(1+len(row['user_id']))\n",
    "    pbar.update(1)\n",
    "pbar.close()"
   ]
  },
  {
   "cell_type": "code",
   "execution_count": null,
   "id": "fe9e50ef",
   "metadata": {},
   "outputs": [],
   "source": [
    "for user_1, related_users in tqdm(user_sim_matrix.items()):\n",
    "    for user_2, weight in related_users.items():\n",
    "        # 打压活跃用户\n",
    "        user_sim_matrix[user_1][user_2] =\\\n",
    "            weight / math.sqrt(user_interacted_num[user_1] * user_interacted_num[user_2])"
   ]
  },
  {
   "cell_type": "code",
   "execution_count": null,
   "id": "78203253",
   "metadata": {},
   "outputs": [],
   "source": [
    "user2items = train_data.groupby('user_id')['item_id'].apply(list)\n",
    "popular_items = [val[0] for val in sorted(item_interacted_num.items(), key=lambda x: x[1], reverse=True)[:20]]"
   ]
  },
  {
   "cell_type": "code",
   "execution_count": null,
   "id": "aeb372f7",
   "metadata": {},
   "outputs": [],
   "source": [
    "user2items.head(2)"
   ]
  },
  {
   "cell_type": "code",
   "execution_count": null,
   "id": "5959f6d8",
   "metadata": {},
   "outputs": [],
   "source": [
    "user_rec = {}\n",
    "rank = defaultdict(int)"
   ]
  },
  {
   "cell_type": "code",
   "execution_count": null,
   "id": "2272846b",
   "metadata": {},
   "outputs": [],
   "source": [
    "\n",
    "# 老用户\n",
    "for relate_user, user_smi_score in sorted(user_sim_matrix[104028762].items(),key=itemgetter(1), reverse=True)[:50]:\n",
    "    print(relate_user,user_smi_score)\n",
    "    for candidate_item in user2items.loc[relate_user]:\n",
    "        if candidate_item in user2items.loc[104028762]:\n",
    "            continue\n",
    "        rank[candidate_item] += user_smi_score"
   ]
  },
  {
   "cell_type": "code",
   "execution_count": 66,
   "id": "58f43e16",
   "metadata": {},
   "outputs": [],
   "source": [
    "rec_items = [item[0] for item in sorted(rank.items(), key=itemgetter(1), reverse=True)[:20]]\n",
    "# 如果推荐的物品不够，用热门物品进行填充\n",
    "rec_items += popular_items[:20-len(rec_items)]\n",
    "user_rec[104028762] = rec_items"
   ]
  },
  {
   "cell_type": "code",
   "execution_count": null,
   "id": "345cc0d2",
   "metadata": {},
   "outputs": [],
   "source": [
    "class UserCF(object):\n",
    "    def __init__(self, his_data):\n",
    "        self.user_set = set()\n",
    "        self.item_set = set()\n",
    "\n",
    "        self.his_data = his_data\n",
    "        self.user_sim_matrix = dict()\n",
    "        self.user_interacted_num = defaultdict(int)\n",
    "        self.item_interacted_num = defaultdict(int)     # 热门推荐时会用到\n",
    "\n",
    "    def calculate_similarity_matrix(self):\n",
    "        item2users = self.his_data.groupby('item_id')['user_id'].apply(list).reset_index()\n",
    "\n",
    "        # print(f'计算ItemCF第一阶段...')\n",
    "        pbar = tqdm(total=item2users.shape[0])\n",
    "        for idx, row in item2users.iterrows():\n",
    "            self.item_set.add(row['item_id'])\n",
    "            self.user_set.update(row['user_id'])\n",
    "            self.item_interacted_num[row['item_id']] += len(row['user_id'])\n",
    "            for idx1, user_1 in enumerate(row['user_id']):\n",
    "                self.user_interacted_num[user_1] += 1\n",
    "                self.user_sim_matrix.setdefault(user_1, {})\n",
    "                for idx2, user_2 in enumerate(row['user_id']):\n",
    "                    if user_1 == user_2:\n",
    "                        continue\n",
    "                    self.user_sim_matrix[user_1].setdefault(user_2, 0)\n",
    "                    # 热门物品用在计算用户之间相似度时，贡献小于非热门物品\n",
    "                    self.user_sim_matrix[user_1][user_2] += 1 / math.log(1 + len(row['user_id']))\n",
    "            pbar.update(1)\n",
    "        pbar.close()\n",
    "        # 理论上，用户之间共现的物品越多，相似度越高\n",
    "        # 但是，活跃用户与很多用户之间的相似度都很高\n",
    "        # print(f'计算UserCF第二阶段...')\n",
    "        for user_1, related_users in tqdm(self.user_sim_matrix.items()):\n",
    "            for user_2, weight in related_users.items():\n",
    "                # 打压活跃用户\n",
    "                self.user_sim_matrix[user_1][user_2] =\\\n",
    "                    weight / math.sqrt(self.user_interacted_num[user_1] * self.user_interacted_num[user_2])\n",
    "\n",
    "    def __call__(self, users, _n=50, _topk=20):\n",
    "        print(f'开始ItemCF召回: Recall@{_topk}-Near@{_n}')\n",
    "        user2items = self.his_data.groupby('user_id')['item_id'].apply(list)\n",
    "        popular_items = [val[0] for val in sorted(\n",
    "            self.item_interacted_num.items(), key=lambda x: x[1], reverse=True)[:_topk]]\n",
    "\n",
    "        user_rec = {}\n",
    "        for user_id in tqdm(users):\n",
    "            # 新用户，直接推荐热门物品\n",
    "            if user_id not in self.user_set:\n",
    "                user_rec[user_id] = popular_items\n",
    "            else:\n",
    "                rank = defaultdict(int)\n",
    "                for relate_user, user_smi_score in sorted(self.user_sim_matrix[user_id].items(),\n",
    "                                                      key=itemgetter(1), reverse=True)[:_n]:\n",
    "                    for candidate_item in user2items.loc[relate_user]:\n",
    "                        # if candidate_item in user2items.loc[user_id]:\n",
    "                        #     continue\n",
    "                        rank[candidate_item] += user_smi_score\n",
    "                rec_items = [item[0] for item in sorted(rank.items(), key=itemgetter(1), reverse=True)[:_topk]]\n",
    "                # 如果推荐的物品不够，用热门物品进行填充\n",
    "                rec_items += popular_items[:_topk-len(rec_items)]\n",
    "                user_rec[user_id] = rec_items\n",
    "\n",
    "        return user_rec"
   ]
  },
  {
   "cell_type": "code",
   "execution_count": null,
   "metadata": {
    "collapsed": false,
    "pycharm": {
     "name": "#%%\n"
    }
   },
   "outputs": [],
   "source": [
    "ucf_cls_path = os.path.join(new_data_path, 'user_cf')\n",
    "os.makedirs(ucf_cls_path, exist_ok=True)"
   ]
  },
  {
   "cell_type": "code",
   "execution_count": null,
   "metadata": {
    "collapsed": false,
    "pycharm": {
     "name": "#%%\n"
    }
   },
   "outputs": [],
   "source": [
    "demo_ucf_path = os.path.join(ucf_cls_path, mode+'_ufc.pkl')\n",
    "\n",
    "if os.path.exists(demo_ucf_path):\n",
    "    with open(demo_ucf_path, 'rb') as file:\n",
    "        demo_ucf = pickle.loads(file.read())\n",
    "        file.close()\n",
    "else:\n",
    "    demo_ucf = UserCF(train_data)\n",
    "    demo_ucf.calculate_similarity_matrix()\n",
    "    demo_ucf_pkl = pickle.dumps(demo_ucf)\n",
    "\n",
    "    output_ucf = open(demo_ucf_path, 'wb')\n",
    "    output_ucf.write(demo_ucf_pkl)\n",
    "    output_ucf.close()"
   ]
  },
  {
   "cell_type": "code",
   "execution_count": null,
   "metadata": {
    "collapsed": false,
    "pycharm": {
     "name": "#%%\n"
    }
   },
   "outputs": [],
   "source": [
    "n, topk = 50, 100\n",
    "\n",
    "# 召回\n",
    "test_users = test_data['user_id'].unique()\n",
    "icf_rec_result = demo_ucf(test_users, n, topk)\n",
    "\n",
    "test_user_group = test_data.groupby('user_id')['item_id'].agg(list).reset_index()\n",
    "test_pred = [icf_rec_result[user_id] for user_id in test_user_group['user_id']]\n",
    "test_true = test_user_group['item_id'].to_list()"
   ]
  },
  {
   "cell_type": "code",
   "execution_count": null,
   "metadata": {
    "collapsed": false,
    "pycharm": {
     "name": "#%%\n"
    }
   },
   "outputs": [],
   "source": [
    "PrintMetric(test_true, test_pred, topk)"
   ]
  },
  {
   "cell_type": "markdown",
   "metadata": {
    "collapsed": false
   },
   "source": []
  },
  {
   "cell_type": "code",
   "execution_count": null,
   "metadata": {
    "collapsed": false,
    "pycharm": {
     "name": "#%%\n"
    }
   },
   "outputs": [],
   "source": []
  }
 ],
 "metadata": {
  "kernelspec": {
   "display_name": "Python 3.8.10 64-bit (windows store)",
   "language": "python",
   "name": "python3"
  },
  "language_info": {
   "codemirror_mode": {
    "name": "ipython",
    "version": 3
   },
   "file_extension": ".py",
   "mimetype": "text/x-python",
   "name": "python",
   "nbconvert_exporter": "python",
   "pygments_lexer": "ipython3",
   "version": "3.8.10"
  },
  "vscode": {
   "interpreter": {
    "hash": "bd08989110d52af84f87ec250935dd398044127260cff0c49051c9d8cccd3a76"
   }
  }
 },
 "nbformat": 4,
 "nbformat_minor": 5
}
