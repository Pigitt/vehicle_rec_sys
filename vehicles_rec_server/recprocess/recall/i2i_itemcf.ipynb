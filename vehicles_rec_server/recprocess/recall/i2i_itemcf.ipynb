{
 "cells": [
  {
   "cell_type": "code",
   "execution_count": null,
   "id": "b06bec9d",
   "metadata": {},
   "outputs": [],
   "source": [
    "import gc\n",
    "import os\n",
    "import math\n",
    "import pickle\n",
    "\n",
    "import numpy as np\n",
    "import pandas as pd\n",
    "from tqdm.auto import tqdm\n",
    "from operator import itemgetter\n",
    "\n",
    "from sklearn.utils import shuffle\n",
    "from collections import defaultdict\n",
    "# from metric import PrintMetric\n",
    "\n",
    "import warnings\n",
    "warnings.filterwarnings(\"ignore\")\n",
    "\n",
    "raw_data_path = 'D:/git/Pigitt/vehicle_rec_sys/off_data'\n",
    "new_data_path = 'D:/git/Pigitt/vehicle_rec_sys/recall_data'\n",
    "\n",
    "os.makedirs(new_data_path, exist_ok=True)"
   ]
  },
  {
   "cell_type": "code",
   "execution_count": null,
   "id": "4479018f",
   "metadata": {},
   "outputs": [],
   "source": [
    "user_info = pd.read_csv(raw_data_path + '/user_info.txt', sep='\\t') #, index_col=0\n",
    "user_info.columns = ['user_id', 'device', 'os', 'province', 'city','age','gender']\n",
    "user_info.head()"
   ]
  },
  {
   "cell_type": "code",
   "execution_count": null,
   "id": "093aa204",
   "metadata": {},
   "outputs": [],
   "source": [
    "doc_info = pd.read_table(raw_data_path + '/doc_info.txt', sep='\\t')\n",
    "doc_info.columns = [\"item_id\", \"标题\", \"发文时间\", \"图片数量\",  \"一级分类\", \"二级分类\", \"关键词\"]\n",
    "\n",
    "doc_info.head()"
   ]
  },
  {
   "cell_type": "code",
   "execution_count": null,
   "id": "7cf3ff94",
   "metadata": {},
   "outputs": [],
   "source": [
    "all_data = pd.read_csv(raw_data_path + '/train_data_30w.txt', sep='\\t')#, index_col=0\n",
    "all_data.columns = [\"user_id\", \"item_id\", \"展现时间\", \"网路环境\", \"刷新次数\", \"展现位置\", \"是否点击\", \"消费时长（秒）\"]\n",
    "all_data.head()"
   ]
  },
  {
   "cell_type": "code",
   "execution_count": null,
   "metadata": {
    "collapsed": false,
    "pycharm": {
     "name": "#%%\n"
    }
   },
   "outputs": [],
   "source": [
    "all_data['展现时间'] = all_data['展现时间'].astype('str')\n",
    "all_data['展现时间'] = all_data['展现时间'].apply(lambda x: int(x[:10]))\n",
    "\n",
    "all_data['展现时间'] = pd.to_datetime(all_data['展现时间'], unit='s', errors='coerce')\n",
    "all_data['展现时间_日期'] = all_data['展现时间'].dt.day\n",
    "\n",
    "all_data.head()"
   ]
  },
  {
   "cell_type": "code",
   "execution_count": null,
   "id": "73c9843e",
   "metadata": {},
   "outputs": [],
   "source": [
    "mode = 'debug'\n",
    "\n",
    "if mode == 'debug':\n",
    "    all_data = shuffle(all_data)\n",
    "    all_data.reset_index(drop=True)\n",
    "\n",
    "    train_data = all_data[(all_data['展现时间_日期'] >= 5) & (all_data['展现时间_日期'] < 6)]\n",
    "    test_data = all_data.loc[all_data['展现时间_日期'] == 6, :]\n",
    "else:\n",
    "    train_data = all_data[(all_data['展现时间_日期'] >= 1) & (all_data['展现时间_日期'] < 6)]\n",
    "    test_data = all_data.loc[all_data['展现时间_日期'] == 6, :]\n",
    "\n",
    "# 训练集按照时间排序\n",
    "train_data.sort_values('展现时间', inplace=True)\n",
    "\n",
    "del all_data#,doc_info, user_info\n",
    "gc.collect()"
   ]
  },
  {
   "cell_type": "code",
   "execution_count": null,
   "metadata": {
    "collapsed": false,
    "pycharm": {
     "name": "#%%\n"
    }
   },
   "outputs": [],
   "source": [
    "print(train_data['user_id'].nunique())\n",
    "print(train_data['item_id'].nunique())"
   ]
  },
  {
   "cell_type": "code",
   "execution_count": null,
   "id": "332f8db0",
   "metadata": {},
   "outputs": [],
   "source": [
    "user_set = set()\n",
    "item_set = set()\n",
    "item_sim_matrix = dict()\n",
    "user_interacted_num = defaultdict(int)\n",
    "item_interacted_num = defaultdict(int)  "
   ]
  },
  {
   "cell_type": "code",
   "execution_count": null,
   "id": "41d72056",
   "metadata": {},
   "outputs": [],
   "source": [
    "user2items = train_data.groupby('user_id')['item_id'].apply(list).reset_index()"
   ]
  },
  {
   "cell_type": "code",
   "execution_count": null,
   "id": "d5ebd557",
   "metadata": {},
   "outputs": [],
   "source": [
    "item2cate = doc_info.groupby('item_id')['一级分类'].apply(list)"
   ]
  },
  {
   "cell_type": "code",
   "execution_count": null,
   "id": "0855f08c",
   "metadata": {},
   "outputs": [],
   "source": [
    "item2cate.get(466294695,None)"
   ]
  },
  {
   "cell_type": "code",
   "execution_count": null,
   "id": "29640975",
   "metadata": {},
   "outputs": [],
   "source": [
    "item2cate"
   ]
  },
  {
   "cell_type": "code",
   "execution_count": 57,
   "id": "bc9ff5f8",
   "metadata": {},
   "outputs": [
    {
     "data": {
      "application/vnd.jupyter.widget-view+json": {
       "model_id": "eee9fc4676f240249f9c19ee101c2d43",
       "version_major": 2,
       "version_minor": 0
      },
      "text/plain": [
       "  0%|          | 0/508 [00:00<?, ?it/s]"
      ]
     },
     "metadata": {},
     "output_type": "display_data"
    }
   ],
   "source": [
    "pbar = tqdm(total=user2items.shape[0])\n",
    "for idx, row in user2items.iterrows():\n",
    "    user_set.add(row['user_id'])\n",
    "    for idx1, item_1 in enumerate(row['item_id']):\n",
    "        item_interacted_num[item_1] += 1\n",
    "        item_sim_matrix.setdefault(item_1, {})\n",
    "        for idx2, item_2 in enumerate(row['item_id']):\n",
    "            if item_1 == item_2:\n",
    "                continue\n",
    "            item_sim_matrix[item_1].setdefault(item_2, 0)\n",
    "            # 新闻阅读可能具有连续性，后续阅读的新闻与前面阅读的新闻相似度更高\n",
    "            related_score = 1/(idx1-idx2) if idx1 > idx2 else 0.8/ (1+idx2-idx1)\n",
    "            # 如果二者类别相同，新闻之间的相似度更高\n",
    "            related_score *= 1 if item2cate.get(item_1, None) == item2cate.get(item_2, None) else 0.5\n",
    "            # 活跃用户在计算物品之间相似度时，贡献小于非活跃用户\n",
    "            item_sim_matrix[item_1][item_2] += related_score / math.log(1 + len(row['item_id']))\n",
    "    pbar.update(1)\n",
    "pbar.close()"
   ]
  },
  {
   "cell_type": "markdown",
   "metadata": {
    "collapsed": false
   },
   "source": []
  },
  {
   "cell_type": "code",
   "execution_count": null,
   "metadata": {
    "collapsed": false,
    "pycharm": {
     "name": "#%%\n"
    }
   },
   "outputs": [],
   "source": [
    "class ItemCF(object):\n",
    "    def __init__(self, his_data, item2cate):\n",
    "        self.user_set = set()\n",
    "        self.his_data = his_data\n",
    "        self.item2cate = item2cate\n",
    "\n",
    "        self.item_sim_matrix = dict()\n",
    "        self.item_interacted_num = defaultdict(int)\n",
    "\n",
    "    def calculate_similarity_matrix(self):\n",
    "        # his_data已经按照时间排序....\n",
    "        user2items = self.his_data.groupby('user_id')['item_id'].apply(list).reset_index()\n",
    "        # print(f'计算ItemCF第一阶段...')\n",
    "        pbar = tqdm(total=user2items.shape[0])\n",
    "        for idx, row in user2items.iterrows():\n",
    "            self.user_set.add(row['user_id'])\n",
    "            for idx1, item_1 in enumerate(row['item_id']):\n",
    "                self.item_interacted_num[item_1] += 1\n",
    "                self.item_sim_matrix.setdefault(item_1, {})\n",
    "                for idx2, item_2 in enumerate(row['item_id']):\n",
    "                    if item_1 == item_2:\n",
    "                        continue\n",
    "                    self.item_sim_matrix[item_1].setdefault(item_2, 0)\n",
    "                    # 新闻阅读可能具有连续性，后续阅读的新闻与前面阅读的新闻相似度更高\n",
    "                    related_score = 1 if idx1 > idx2 else 0.8\n",
    "                    # 如果二者类别相同，新闻之间的相似度更高\n",
    "                    related_score *= 1 if item2cate.get(item_1, None) == item2cate.get(item_2, None) else 0.5\n",
    "\n",
    "                    # 活跃用户在计算物品之间相似度时，贡献小于非活跃用户\n",
    "                    self.item_sim_matrix[item_1][item_2] += related_score / math.log(1 + len(row['item_id']))\n",
    "            pbar.update(1)\n",
    "        pbar.close()\n",
    "\n",
    "        # 理论上，物品之间共现的用户越多，相似度越高\n",
    "        # 但是，热门物品与很多物品之间的相似度都很高\n",
    "        # print(f'计算ItemCF第二阶段...')\n",
    "        for item_1, related_items in tqdm(self.item_sim_matrix.items()):\n",
    "            for item_2, weight in related_items.items():\n",
    "                # 打压热门物品\n",
    "                self.item_sim_matrix[item_1][item_2] = \\\n",
    "                    weight / math.sqrt(self.item_interacted_num[item_1] * self.item_interacted_num[item_2])\n",
    "\n",
    "    def __call__(self, users, _n=50, _topk=20):\n",
    "        print(f'开始ItemCF召回: Recall@{_topk}-Near@{_n}')\n",
    "        user2items = self.his_data.groupby('user_id')['item_id'].apply(list)\n",
    "        popular_items = [val[0] for val in sorted(\n",
    "            self.item_interacted_num.items(), key=lambda x: x[1], reverse=True)[:_topk]]\n",
    "\n",
    "        user_rec = {}\n",
    "        for user_id in tqdm(users):\n",
    "            # 新用户，直接推荐热门物品\n",
    "            if user_id not in self.user_set:\n",
    "                user_rec[user_id] = popular_items\n",
    "            else:\n",
    "                rank = defaultdict(int)\n",
    "                his_items = user2items.loc[user_id]\n",
    "                # 遍历用户历史交互物品\n",
    "                for his_item in his_items:\n",
    "                    # 选取与his_item相似度最高的_n个物品\n",
    "                    for candidate_item, item_smi_score in sorted(self.item_sim_matrix[his_item].items(),\n",
    "                                                                 key=itemgetter(1), reverse=True)[:_n]:\n",
    "                        # 如果推荐的物品已经被购买过了，是否纳入推荐（可跳过）\n",
    "                        # if candidate_item in his_items:\n",
    "                        #     continue\n",
    "                        rank[candidate_item] += item_smi_score\n",
    "                rec_items = [item[0] for item in sorted(rank.items(), key=itemgetter(1), reverse=True)[:_topk]]\n",
    "                # 如果推荐的物品不够，用热门物品进行填充\n",
    "                rec_items += popular_items[:_topk-len(rec_items)]\n",
    "                user_rec[user_id] = rec_items\n",
    "\n",
    "        return user_rec"
   ]
  },
  {
   "cell_type": "code",
   "execution_count": null,
   "metadata": {
    "collapsed": false,
    "pycharm": {
     "name": "#%%\n"
    }
   },
   "outputs": [],
   "source": [
    "icf_cls_path = os.path.join(new_data_path, 'item_cf')\n",
    "os.makedirs(icf_cls_path, exist_ok=True)"
   ]
  },
  {
   "cell_type": "code",
   "execution_count": null,
   "metadata": {
    "collapsed": false,
    "pycharm": {
     "name": "#%%\n"
    }
   },
   "outputs": [],
   "source": [
    "demo_icf_path = os.path.join(icf_cls_path, mode+'_ifc.pkl')\n",
    "if os.path.exists(demo_icf_path):\n",
    "    with open(demo_icf_path, 'rb') as file:\n",
    "        demo_icf = pickle.loads(file.read())\n",
    "        file.close()\n",
    "else:\n",
    "    demo_icf = ItemCF(train_data, item2cate)\n",
    "    demo_icf.calculate_similarity_matrix()\n",
    "    demo_icf_pkl = pickle.dumps(demo_icf)\n",
    "\n",
    "    output_icf = open(demo_icf_path, 'wb')\n",
    "    output_icf.write(demo_icf_pkl)\n",
    "    output_icf.close()"
   ]
  },
  {
   "cell_type": "code",
   "execution_count": null,
   "metadata": {
    "collapsed": false,
    "pycharm": {
     "name": "#%%\n"
    }
   },
   "outputs": [],
   "source": [
    "n, topk = 50, 100\n",
    "\n",
    "# 召回\n",
    "test_users = test_data['user_id'].unique()\n",
    "icf_rec_result = demo_icf(test_users, n, topk)\n",
    "\n",
    "test_user_group = test_data.groupby('user_id')['item_id'].agg(list).reset_index()\n",
    "test_pred = [icf_rec_result[user_id] for user_id in test_user_group['user_id']]\n",
    "test_true = test_user_group['item_id'].to_list()"
   ]
  },
  {
   "cell_type": "code",
   "execution_count": null,
   "metadata": {
    "collapsed": false,
    "pycharm": {
     "name": "#%%\n"
    }
   },
   "outputs": [],
   "source": [
    "PrintMetric(test_true, test_pred, topk)"
   ]
  },
  {
   "cell_type": "code",
   "execution_count": null,
   "metadata": {
    "collapsed": false,
    "pycharm": {
     "name": "#%%\n"
    }
   },
   "outputs": [],
   "source": []
  }
 ],
 "metadata": {
  "kernelspec": {
   "display_name": "Python 3.8.10 64-bit (windows store)",
   "language": "python",
   "name": "python3"
  },
  "language_info": {
   "codemirror_mode": {
    "name": "ipython",
    "version": 3
   },
   "file_extension": ".py",
   "mimetype": "text/x-python",
   "name": "python",
   "nbconvert_exporter": "python",
   "pygments_lexer": "ipython3",
   "version": "3.8.10"
  },
  "vscode": {
   "interpreter": {
    "hash": "bd08989110d52af84f87ec250935dd398044127260cff0c49051c9d8cccd3a76"
   }
  }
 },
 "nbformat": 4,
 "nbformat_minor": 5
}
