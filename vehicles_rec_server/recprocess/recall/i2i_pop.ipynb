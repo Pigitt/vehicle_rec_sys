{
 "cells": [
  {
   "cell_type": "code",
   "execution_count": null,
   "id": "b06bec9d",
   "metadata": {},
   "outputs": [],
   "source": [
    "import gc\n",
    "import os\n",
    "\n",
    "import numpy as np\n",
    "import pandas as pd\n",
    "import plotly.express as px\n",
    "\n",
    "from tqdm.auto import tqdm\n",
    "from collections import Counter\n",
    "from sklearn.utils import shuffle\n",
    "\n",
    "# from metric import PrintMetric\n",
    "\n",
    "import warnings\n",
    "warnings.filterwarnings(\"ignore\")\n",
    "\n",
    "raw_data_path = 'D:/git/Pigitt/vehicle_rec_sys/off_data'\n",
    "new_data_path = 'D:/git/Pigitt/vehicle_rec_sys/recall_data'\n",
    "\n",
    "os.makedirs(new_data_path, exist_ok=True)"
   ]
  },
  {
   "cell_type": "code",
   "execution_count": null,
   "id": "4479018f",
   "metadata": {},
   "outputs": [],
   "source": [
    "user_info = pd.read_csv(raw_data_path + '/user_info.txt', sep='\\t') #, index_col=0\n",
    "user_info.columns = ['user_id', 'device', 'os', 'province', 'city','age','gender']\n",
    "\n",
    "doc_info = pd.read_table(raw_data_path + '/doc_info.txt', sep='\\t')\n",
    "doc_info.columns = [\"item_id\", \"标题\", \"发文时间\", \"图片数量\",  \"一级分类\", \"二级分类\", \"关键词\"]\n",
    "\n",
    "all_data = pd.read_csv(raw_data_path + '/train_data_30w.txt', sep='\\t')#, index_col=0\n",
    "all_data.columns = [\"user_id\", \"item_id\", \"展现时间\", \"网路环境\", \"刷新次数\", \"展现位置\", \"是否点击\", \"消费时长（秒）\"]"
   ]
  },
  {
   "cell_type": "markdown",
   "metadata": {
    "collapsed": false
   },
   "source": [
    "# 预处理数据在时间上的特征"
   ]
  },
  {
   "cell_type": "code",
   "execution_count": null,
   "metadata": {
    "collapsed": false,
    "pycharm": {
     "name": "#%%\n"
    }
   },
   "outputs": [],
   "source": [
    "all_data['展现时间'] = pd.to_datetime(all_data['展现时间'], utc=True, unit='ms').dt.tz_convert('Asia/Shanghai')\n",
    "\n",
    "# 合并文档发文时间\n",
    "all_data = all_data.merge(doc_info[['item_id', '发文时间']], how='left', on='item_id')\n",
    "\n",
    "# 统计各文档最早展现时间\n",
    "temp_df = all_data.groupby('item_id', as_index=False)['展现时间'].agg({'最早展现时间': min})\n",
    "all_data = all_data.merge(temp_df, how='left', on='item_id')"
   ]
  },
  {
   "cell_type": "code",
   "execution_count": null,
   "metadata": {
    "collapsed": false,
    "pycharm": {
     "name": "#%%\n"
    }
   },
   "outputs": [],
   "source": [
    "# 填充发文时间为空的文档\n",
    "condition_row = (all_data['发文时间'].isnull()) | (all_data['发文时间'] == 'Android')\n",
    "all_data.loc[condition_row, '发文时间'] = all_data.loc[condition_row, '最早展现时间']\n",
    "all_data.loc[~condition_row, '发文时间'] = pd.to_datetime(\n",
    "    all_data.loc[~condition_row, '发文时间'], utc=True, unit='ms').dt.tz_convert('Asia/Shanghai')\n",
    "\n",
    "# 填充发文时间晚于最早展现时间的文档\n",
    "condition_row = (all_data['发文时间'] > all_data['最早展现时间'])\n",
    "all_data.loc[condition_row, '发文时间'] = all_data.loc[condition_row, '最早展现时间']"
   ]
  },
  {
   "cell_type": "code",
   "execution_count": null,
   "metadata": {
    "collapsed": false,
    "pycharm": {
     "name": "#%%\n"
    }
   },
   "outputs": [],
   "source": [
    "# 统计日期信息\n",
    "all_data['发文日期'] = pd.to_datetime(all_data['发文时间']).dt.date\n",
    "all_data['展现日期'] = all_data['展现时间'].dt.day"
   ]
  },
  {
   "cell_type": "markdown",
   "metadata": {
    "collapsed": false
   },
   "source": [
    "# 划分训练集和测试集"
   ]
  },
  {
   "cell_type": "code",
   "execution_count": null,
   "id": "73c9843e",
   "metadata": {},
   "outputs": [],
   "source": [
    "mode = 'test'\n",
    "\n",
    "if mode == 'debug':\n",
    "    all_data = shuffle(all_data)\n",
    "    all_data.reset_index(drop=True)\n",
    "\n",
    "    train_data = all_data[(all_data['展现日期'] >= 5) & (all_data['展现日期'] < 6)]\n",
    "    test_data = all_data.loc[all_data['展现日期'] == 6, :]\n",
    "else:\n",
    "    train_data = all_data[(all_data['展现日期'] >= 1) & (all_data['展现日期'] < 6)]\n",
    "    test_data = all_data.loc[all_data['展现日期'] == 6, :]\n",
    "\n",
    "del all_data, doc_info, user_info\n",
    "gc.collect()"
   ]
  },
  {
   "cell_type": "code",
   "execution_count": null,
   "metadata": {
    "collapsed": false,
    "pycharm": {
     "name": "#%%\n"
    }
   },
   "outputs": [],
   "source": [
    "train_data.head(1)"
   ]
  },
  {
   "cell_type": "markdown",
   "metadata": {
    "collapsed": false
   },
   "source": [
    "# 对日期在2021-7-1发表的新闻进行分析"
   ]
  },
  {
   "cell_type": "code",
   "execution_count": null,
   "metadata": {
    "collapsed": false,
    "pycharm": {
     "name": "#%%\n"
    }
   },
   "outputs": [],
   "source": [
    "# 筛选出发文日期在2021-07-01的新闻\n",
    "train_71 = train_data.loc[train_data['发文日期'] == pd.to_datetime('2021-7-1'), :]\n",
    "train_71.head()"
   ]
  },
  {
   "cell_type": "code",
   "execution_count": null,
   "metadata": {
    "collapsed": false,
    "pycharm": {
     "name": "#%%\n"
    }
   },
   "outputs": [],
   "source": [
    "# 提取该天新闻的全部交互数据\n",
    "train_item_71 = train_data[train_data['item_id'].isin(train_71['item_id'].unique())]\n",
    "\n",
    "# 统计每个交互样本的发文到展示时间差\n",
    "train_item_71['发文到展示时间差'] = train_item_71['展现时间'] - train_item_71['发文时间']\n",
    "train_item_71['发文到展示小时差'] = train_item_71['发文到展示时间差'].dt.days * 24 + round((train_item_71['发文到展示时间差'].dt.seconds + 1) / 3600)\n",
    "\n",
    "train_item_71.head()"
   ]
  },
  {
   "cell_type": "code",
   "execution_count": null,
   "id": "db056523",
   "metadata": {},
   "outputs": [],
   "source": [
    "train_item_71.head(1)"
   ]
  },
  {
   "cell_type": "code",
   "execution_count": null,
   "id": "2266273f",
   "metadata": {},
   "outputs": [],
   "source": [
    "train_item_71['发文到展示小时差'].unique()"
   ]
  },
  {
   "cell_type": "code",
   "execution_count": null,
   "metadata": {
    "collapsed": false,
    "pycharm": {
     "name": "#%%\n"
    }
   },
   "outputs": [],
   "source": [
    "# 对train_item_71按 “发文到展示小时差” 进行分组\n",
    "train_item_71_g = train_item_71.groupby(['发文到展示小时差', '是否点击'], as_index=False)['是否点击'].agg(({'expos_sum': 'size'}))\n",
    "train_item_71_g.head()"
   ]
  },
  {
   "cell_type": "code",
   "execution_count": null,
   "metadata": {
    "collapsed": false,
    "pycharm": {
     "name": "#%%\n"
    }
   },
   "outputs": [],
   "source": [
    "train_item_71_g.sort_values('expos_sum', ascending=False)"
   ]
  },
  {
   "cell_type": "code",
   "execution_count": null,
   "metadata": {
    "collapsed": false,
    "pycharm": {
     "name": "#%%\n"
    }
   },
   "outputs": [],
   "source": [
    "# 将新闻发表后不同小时内的曝光数和点击数绘制出来\n",
    "fig = px.bar(train_item_71_g, x='发文到展示小时差', y='expos_sum', title='曝光数', color='是否点击')\n",
    "fig.show()"
   ]
  },
  {
   "cell_type": "markdown",
   "metadata": {
    "collapsed": false
   },
   "source": [
    "+ 7月1日发文的新闻，大约在2小时后，曝光数和点击数有了明显的上升\n",
    "+ 大约在32小时候，曝光和点击开始有了明显了下降\n",
    "+ 在72小时后，该部分新闻基本不再曝光"
   ]
  },
  {
   "cell_type": "code",
   "execution_count": null,
   "metadata": {
    "collapsed": false,
    "pycharm": {
     "name": "#%%\n"
    }
   },
   "outputs": [],
   "source": [
    "# 统计了各样本从发文到现在（最大展现时间）的时间间隔\n",
    "max_time = train_data['展现时间'].max()\n",
    "\n",
    "train_data['发文到现在时间差'] = max_time - train_data['发文时间']\n",
    "train_data['发文到现在小时差'] = train_data['发文到现在时间差'].dt.days * 24 + (train_data['发文到现在时间差'].dt.seconds + 1) / 3600"
   ]
  },
  {
   "cell_type": "code",
   "execution_count": null,
   "metadata": {
    "collapsed": false,
    "pycharm": {
     "name": "#%%\n"
    }
   },
   "outputs": [],
   "source": [
    "# 由于新闻具有时效性，根据时间差划分不同的训练集\n",
    "train1 = train_data.loc[(train_data['发文到现在时间差'] > pd.to_timedelta('0 hours')) & (train_data['发文到现在时间差'] <= pd.to_timedelta('2 hours'))]\n",
    "train2 = train_data.loc[(train_data['发文到现在时间差'] > pd.to_timedelta('2 hours')) & (train_data['发文到现在时间差'] <= pd.to_timedelta('16 hours'))]\n",
    "train3 = train_data.loc[(train_data['发文到现在时间差'] > pd.to_timedelta('16 hours')) & (train_data['发文到现在时间差'] <= pd.to_timedelta('32 hours'))]\n",
    "train4 = train_data.loc[(train_data['发文到现在时间差'] > pd.to_timedelta('32 hours')) & (train_data['发文到现在时间差'] <= pd.to_timedelta('72 hours'))]"
   ]
  },
  {
   "cell_type": "markdown",
   "metadata": {
    "collapsed": false
   },
   "source": [
    "# 计算新闻的热度\n",
    "具体过程如下：\n",
    "(1) 根据牛顿冷却公式，计算新闻随时间变化的新鲜度;\n",
    "$$\\boldsymbol{T}(\\boldsymbol{t})=\\boldsymbol{H}+\\left(\\boldsymbol{T}_{\\mathbf{0}}-\\boldsymbol{H}\\right) \\boldsymbol{e}^{-\\boldsymbol{\\alpha}\\left(\\boldsymbol{t}-\\boldsymbol{t}_{\\mathbf{0}}\\right)}\n",
    "$$\n",
    "\n",
    "(2) 根据用户是否点击新闻以及新闻的总交互数，计算文档的流行度；"
   ]
  },
  {
   "cell_type": "code",
   "execution_count": null,
   "metadata": {
    "collapsed": false,
    "pycharm": {
     "name": "#%%\n"
    }
   },
   "outputs": [],
   "source": [
    "train = pd.concat([train1, train2, train3, train4], axis=0)\n",
    "rate = len(train[train['是否点击'] == 1]) / len(train[train['是否点击'] == 0])"
   ]
  },
  {
   "cell_type": "code",
   "execution_count": null,
   "metadata": {
    "collapsed": false,
    "pycharm": {
     "name": "#%%\n"
    }
   },
   "outputs": [],
   "source": [
    "delta_t = train['发文到现在小时差']\n",
    "\n",
    "# 新闻的初始pop_factor为10，在32小时后，pop_factor大约为1\n",
    "train['pop_factor'] = 10 * np.exp(-0.072 * delta_t)\n",
    "\n",
    "# 如果用户未点击新闻，施加惩罚\n",
    "train['pop_factor'] = train[['pop_factor', '是否点击']].apply(lambda x: x['pop_factor'] if x['是否点击'] else rate * x['pop_factor'], axis=1)\n",
    "\n",
    "# 从新闻的曝光次数上，统计新闻的热点信息\n",
    "popular_items_group = train.groupby(['item_id'])['pop_factor'].sum()\n",
    "\n",
    "# 根据新闻的流行度，构建热门新闻列表\n",
    "popular_factor, popular_items = zip(*sorted(zip(popular_items_group, popular_items_group.keys()))[::-1])\n",
    "popular_items = list(popular_items)"
   ]
  },
  {
   "cell_type": "code",
   "execution_count": null,
   "metadata": {
    "collapsed": false,
    "pycharm": {
     "name": "#%%\n"
    }
   },
   "outputs": [],
   "source": [
    "# 构建用户近期点击的新闻集合，用户再次推送\n",
    "positive_items_per_user1 = train1[train1['是否点击'] == 1].groupby(['user_id'])['item_id'].apply(list)\n",
    "positive_items_per_user2 = train2[train2['是否点击'] == 1].groupby(['user_id'])['item_id'].apply(list)\n",
    "positive_items_per_user3 = train3[train3['是否点击'] == 1].groupby(['user_id'])['item_id'].apply(list)\n",
    "positive_items_per_user4 = train4[train4['是否点击'] == 1].groupby(['user_id'])['item_id'].apply(list)"
   ]
  },
  {
   "cell_type": "code",
   "execution_count": null,
   "metadata": {
    "collapsed": false,
    "pycharm": {
     "name": "#%%\n"
    }
   },
   "outputs": [],
   "source": [
    "topk = 100\n",
    "\n",
    "test_users = test_data['user_id'].unique()"
   ]
  },
  {
   "cell_type": "markdown",
   "metadata": {
    "collapsed": false
   },
   "source": [
    "## 策略1： 将用户观看过的新闻再次推送，不足数量的部分直接使用热门推荐（不具备个性化）"
   ]
  },
  {
   "cell_type": "code",
   "execution_count": null,
   "metadata": {
    "collapsed": false,
    "pycharm": {
     "name": "#%%\n"
    }
   },
   "outputs": [],
   "source": [
    "outputs = {}\n",
    "for user in tqdm(test_users):\n",
    "    user_output = []\n",
    "    # 将用户已经观看过部分的新闻，再次推送给用户\n",
    "    if user in positive_items_per_user1.keys():\n",
    "        most_common_items_of_user = {k: v for k, v in Counter(positive_items_per_user1[user]).most_common()}\n",
    "        user_output += list(most_common_items_of_user.keys())[:min(topk // 10, len(most_common_items_of_user))]\n",
    "    if user in positive_items_per_user2.keys():\n",
    "        most_common_items_of_user = {k: v for k, v in Counter(positive_items_per_user2[user]).most_common()}\n",
    "        user_output += list(most_common_items_of_user.keys())[:min(topk // 20, len(most_common_items_of_user))]\n",
    "    if user in positive_items_per_user3.keys():\n",
    "        most_common_items_of_user = {k: v for k, v in Counter(positive_items_per_user3[user]).most_common()}\n",
    "        user_output += list(most_common_items_of_user.keys())[:min(topk // 30, len(most_common_items_of_user))]\n",
    "    if user in positive_items_per_user4.keys():\n",
    "        most_common_items_of_user = {k: v for k, v in Counter(positive_items_per_user4[user]).most_common()}\n",
    "        user_output += list(most_common_items_of_user.keys())[:min(topk // 50, len(most_common_items_of_user))]\n",
    "\n",
    "    user_output = user_output[:topk]\n",
    "    # 剩余部分，使用热门新闻进行填充\n",
    "    user_output += list(popular_items[:topk - len(user_output)])\n",
    "\n",
    "    outputs[user] = user_output\n"
   ]
  },
  {
   "cell_type": "code",
   "execution_count": null,
   "metadata": {
    "collapsed": false,
    "pycharm": {
     "name": "#%%\n"
    }
   },
   "outputs": [],
   "source": [
    "positive_items_test = test_data.groupby(['user_id'])['item_id'].apply(list)\n",
    "\n",
    "test_true = []\n",
    "for i, user in tqdm(enumerate(test_users)):\n",
    "    test_true.append(positive_items_test[user])\n",
    "\n",
    "test_pred = []\n",
    "for user, pred in outputs.items():\n",
    "    test_pred.append(pred)\n",
    "\n",
    "PrintMetric(test_true, test_pred, topk)"
   ]
  },
  {
   "cell_type": "markdown",
   "metadata": {
    "collapsed": false,
    "pycharm": {
     "name": "#%% md\n"
    }
   },
   "source": [
    "## 策略2： 根据用户最近观看的新闻类别，推送相似类别的热点新闻\n",
    "待续..."
   ]
  }
 ],
 "metadata": {
  "kernelspec": {
   "display_name": "Python 3.8.10 64-bit (windows store)",
   "language": "python",
   "name": "python3"
  },
  "language_info": {
   "codemirror_mode": {
    "name": "ipython",
    "version": 3
   },
   "file_extension": ".py",
   "mimetype": "text/x-python",
   "name": "python",
   "nbconvert_exporter": "python",
   "pygments_lexer": "ipython3",
   "version": "3.8.10"
  },
  "vscode": {
   "interpreter": {
    "hash": "bd08989110d52af84f87ec250935dd398044127260cff0c49051c9d8cccd3a76"
   }
  }
 },
 "nbformat": 4,
 "nbformat_minor": 5
}
