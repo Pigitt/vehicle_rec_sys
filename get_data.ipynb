{
 "cells": [
  {
   "cell_type": "code",
   "execution_count": null,
   "metadata": {},
   "outputs": [],
   "source": [
    "import requests\n",
    "import json\n",
    "# from csv import reader \n",
    "import os\n",
    "import sys\n",
    "from bs4 import BeautifulSoup\n",
    "import time\n",
    "import random\n",
    "from lxml import etree\n",
    "import os\n",
    "import re\n",
    "import datetime\n",
    "import pymongo\n",
    "# # from selenium import webdriver\n"
   ]
  },
  {
   "cell_type": "code",
   "execution_count": null,
   "metadata": {},
   "outputs": [],
   "source": [
    "nowTime = datetime.datetime.now().strftime('%Y%m%d%H%M%S')"
   ]
  },
  {
   "cell_type": "code",
   "execution_count": null,
   "metadata": {},
   "outputs": [],
   "source": [
    "# year = ['2014','2015','2016','2017','2018','2019','2020','2021','2022']\n",
    "domain = 'https://www.caranddriver.com'\n",
    "# headers = {\n",
    "#         'Accept': '*/*',\n",
    "#         'Accept-Encoding': 'gzip, deflate, br',\n",
    "#         'Host':'www.kbb.com',\n",
    "#         'Referer':'https://www.kbb.com/car-reviews/',\n",
    "#         'Content-Type':'application/json',\n",
    "#         'User-Agent':'Mozilla/5.0 (Windows NT 10.0; Win64; x64) AppleWebKit/537.36 (KHTML, like Gecko) Chrome/99.0.4844.51 Safari/537.36'\n",
    "#         }"
   ]
  },
  {
   "cell_type": "code",
   "execution_count": null,
   "metadata": {},
   "outputs": [],
   "source": [
    "make=[\n",
    "'Acura',\n",
    "'Alfa-Romeo',\n",
    "'Aston-Martin',\n",
    "'Audi',\n",
    "'Bentley',\n",
    "'BMW',\n",
    "'Bugatti',\n",
    "'Buick',\n",
    "'Cadillac',\n",
    "'Chevrolet',\n",
    "'Chrysler',\n",
    "'Dodge',\n",
    "'Ferrari',\n",
    "'Fiat',\n",
    "'Ford',\n",
    "'Genesis',\n",
    "'GMC',\n",
    "'Honda',\n",
    "'Hyundai',\n",
    "'Infiniti',\n",
    "'Jaguar',\n",
    "'Jeep',\n",
    "'Kia',\n",
    "'Lamborghini',\n",
    "'Land-Rover',\n",
    "'Lexus',\n",
    "'Lincoln',\n",
    "'Lotus',\n",
    "'Maserati',\n",
    "'Mazda',\n",
    "'McLaren',\n",
    "# 'Mercedes-AMG',\n",
    "'Mercedes-Benz',\n",
    "# 'Mercedes-Maybach',\n",
    "'Mini',\n",
    "'Mitsubishi',\n",
    "'Nissan',\n",
    "'Polestar',\n",
    "'Porsche',\n",
    "'Ram',\n",
    "'Rolls-Royce',\n",
    "'Scion',\n",
    "'Smart',\n",
    "'Subaru',\n",
    "'Suzuki',\n",
    "'Tesla',\n",
    "'Toyota',\n",
    "'Volkswagen',\n",
    "'Volvo'\n",
    "]"
   ]
  },
  {
   "cell_type": "code",
   "execution_count": null,
   "metadata": {},
   "outputs": [],
   "source": [
    "def get_specs(url):\n",
    "    response = requests.get(url=url)\n",
    "    soup= BeautifulSoup(response.text, \"lxml\")\n",
    "    specs={}\n",
    "    for i in soup.select('div[class=\"css-qgjj1l e17ofjz23\"]'):\n",
    "        # print(i.select('button[class=\"css-17t01md e17ofjz22\"]')[0].text)\n",
    "        specs[i.select('button[class=\"css-17t01md e17ofjz22\"]')[0].text]={}\n",
    "        list=[]\n",
    "        for j in i.select('div[class=\"css-1ajawdl e2zahha0\"]'):\n",
    "            try:\n",
    "                specs[i.select('button[class=\"css-17t01md e17ofjz22\"]')[0].text][j.contents[0].text]=j.contents[1].text\n",
    "                # print(j.contents[0].text,j.contents[1].text)\n",
    "            except IndexError:\n",
    "                list.append(j.contents[0].text)\n",
    "                # print(j.contents[0].text)\n",
    "                specs[i.select('button[class=\"css-17t01md e17ofjz22\"]')[0].text]=list\n",
    "    return specs\n",
    "def get_rates(url):\n",
    "    response = requests.get(url=url)\n",
    "    soup= BeautifulSoup(response.text, \"lxml\")\n",
    "    # html = etree.HTML(response.text)\n",
    "    # html.xpath()\n",
    "    rate={}\n",
    "    try:\n",
    "        star={}\n",
    "        for i in soup.select('div[class=\"eov6l8h1 css-4dxonz ehh6yb86\"]'):\n",
    "            star[i.select('span[class=\"css-ihxznl ehh6yb82\"]')[0].text]=i.select('span[class=\"css-1c6thby ehh6yb83\"]')[0].text\n",
    "        mark={}\n",
    "        for i in soup.select('div[class=\"css-12jjwzq\"]'):\n",
    "            mark[i.select('div[class=\"css-1rttn8x\"]')[0].text]=i.select('div[class=\"css-sf59yt\"]')[0].text\n",
    "            # print(i.select('div[class=\"css-1rttn8x\"]')[0].text,i.select('div[class=\"css-sf59yt\"]')[0].text)\n",
    "        rate={\n",
    "        'overall':soup.select('div[class=\"css-wti69m\"]')[0].text,\n",
    "        'count':re.findall('.*\\([^\\)\\(\\d]*(\\d+)[^\\)\\(\\d]*\\).*',soup.select('div[class=\"css-14z3b1p\"]')[0].text)[0],\n",
    "        'recby': soup.select('span[class=\"css-19pqkoc e1agtnah1\"]')[0].text,\n",
    "        'star':star,\n",
    "        'mark':mark\n",
    "        }\n",
    "    except IndexError:\n",
    "        pass\n",
    "    return rate"
   ]
  },
  {
   "cell_type": "code",
   "execution_count": null,
   "metadata": {},
   "outputs": [],
   "source": [
    "# get url for Specs & Rate\n",
    "for m in make:\n",
    "    url_main=domain+'/'+m.lower()\n",
    "    response = requests.get(url=url_main)\n",
    "    soup=soup= BeautifulSoup(response.text, \"lxml\")\n",
    "    href=soup.select('a[class=\"vehicle-item-title item-title\"]')\n",
    "    vehicle={}\n",
    "    for u in href:\n",
    "        url_each=domain+u.get('href')\n",
    "        print(url_each)\n",
    "        response = requests.get(url=url_each)\n",
    "        soup= BeautifulSoup(response.text, \"lxml\")\n",
    "        name=soup.select('h1[class=\"css-i4j13t e10ise8i2\"]')[0].text\n",
    "        try:\n",
    "            year=soup.select('a[class^=\"current\"]')[0].text    \n",
    "        except IndexError:\n",
    "            try :\n",
    "                year=soup.select('span[itemprop=\"name\"]')[3].text\n",
    "            except IndexError:\n",
    "                year=re.findall('(^\\d{4})',soup.select('h1[class=\"css-i4j13t e10ise8i2\"]')[0].text)[0]\n",
    "        make=soup.select('span[itemprop=\"name\"]')[1].text\n",
    "        model=soup.select('span[itemprop=\"name\"]')[2].text\n",
    "        # price=soup.select('div[class=\"css-48aaf9 e1zcv6h1\"]')[0].text\n",
    "        kbb_url='https://www.kbb.com'+'/'+make.replace(' ','-').lower()+'/'+model.replace(' ','-').lower()+'/'+year+'/consumer-reviews'\n",
    "        vehicle[name]={\n",
    "            'year':year,\n",
    "            'make':make,\n",
    "            'model':model}\n",
    "        try:\n",
    "            price=re.findall('\\d+',soup.select('span[class=\"css-1ykuyyb e10ise8i0\"]')[0].text.replace(',',''))[0]\n",
    "        except IndexError:\n",
    "            price=''\n",
    "        vehicle[name]['price']=price\n",
    "        vehicle[name]['kbb_url']=kbb_url\n",
    "        vehicle[name]['rate']=get_rates(kbb_url)\n",
    "        try:\n",
    "            cnd_url=domain+soup.select('#main-content > header > div.css-16uv341.endngjl0 > div.css-70qvj9.e17a0kax2 > div > a[title=\"Specs\"]')[0].attrs['href']\n",
    "            vehicle[name]['cnd_url']=cnd_url\n",
    "            vehicle[name]['specs']=get_specs(cnd_url)\n",
    "        except IndexError:\n",
    "            vehicle[name]['cnd_url']=''\n",
    "            vehicle[name]['specs']={}\n",
    "\n",
    "    with open(m+'.json', \"w\") as dump_f:\n",
    "        json.dump(vehicle, dump_f, indent=4)"
   ]
  },
  {
   "cell_type": "code",
   "execution_count": null,
   "metadata": {},
   "outputs": [],
   "source": [
    "# for test\n",
    "url='https://www.caranddriver.com/porsche/911-gt3-gt3-rs'\n",
    "response = requests.get(url=url)\n",
    "soup= BeautifulSoup(response.text, \"lxml\")"
   ]
  },
  {
   "cell_type": "code",
   "execution_count": null,
   "metadata": {},
   "outputs": [],
   "source": [
    "#get latest vehicle\n",
    "renew_dict={}\n",
    "renew_dict={\n",
    "'name':soup.select('div[class=\"vehicle-item tower-ad-story\"] a[class=\"vehicle-item-title item-title\"]')[0].text,\n",
    "'latest_url':domain+soup.select('div[class=\"vehicle-item tower-ad-story\"] a[class=\"vehicle-item-title item-title\"]')[0].get('href')\n",
    "}"
   ]
  },
  {
   "cell_type": "code",
   "execution_count": null,
   "metadata": {},
   "outputs": [],
   "source": [
    "#get each model from car&driver\n",
    "soup.select('select[id=\"styleSelect\"] option[value!=\"0\"]:not([selected=\"\"])')\n",
    "str1='https://www.kbb.com/fiat/500x/2022/consumer-reviews'\n",
    "re.findall('^(.*[\\\\\\/])',str1) #获取/后所有\n",
    "# re.findall('[^/]+(?!.*/)',str1)#获取/前所有\n",
    "year=re.findall('(^\\d{4})',name)[0]\n",
    "make=re.findall('[^ ]+',name)[1]\n",
    "model=' '.join(re.findall('[^ ]+',name)[2:])"
   ]
  },
  {
   "cell_type": "code",
   "execution_count": null,
   "metadata": {},
   "outputs": [],
   "source": [
    "# jsonPath=os.path\n",
    "for m in make:\n",
    "       with open('.\\data\\\\'+m+'.json','r',encoding = 'utf-8') as load_f:\n",
    "              load_dict = json.load(load_f)\n",
    "              for i in load_dict:\n",
    "                     load_dict[i]['name']=i\n",
    "       with open('.\\data\\\\'+m+'.json','w',encoding = 'utf-8') as dump_f:\n",
    "              json.dump(load_dict,dump_f,indent = 4,sort_keys = True)\n"
   ]
  },
  {
   "cell_type": "code",
   "execution_count": null,
   "metadata": {},
   "outputs": [],
   "source": [
    "client=pymongo.MongoClient(\"mongodb://localhost:27017/\")\n",
    "mydb = client['vehicledb']\n",
    "mycol = mydb['vehicle']"
   ]
  },
  {
   "cell_type": "code",
   "execution_count": null,
   "metadata": {},
   "outputs": [],
   "source": [
    "for m in make:\n",
    "       with open('.\\data\\\\'+m+'.json','r',encoding = 'utf-8') as load_f:\n",
    "            load_dict = json.load(load_f)\n",
    "            for i in load_dict:\n",
    "                x = mycol.insert_one(load_dict[i]) "
   ]
  },
  {
   "cell_type": "code",
   "execution_count": null,
   "metadata": {},
   "outputs": [],
   "source": [
    "# 删除collections\n",
    "mycol.delete_many({})"
   ]
  },
  {
   "cell_type": "code",
   "execution_count": null,
   "metadata": {},
   "outputs": [],
   "source": [
    "'vehicle' + \"_\" + \"\".join(str(datetime.date.today()).split('-'))"
   ]
  },
  {
   "cell_type": "code",
   "execution_count": null,
   "metadata": {},
   "outputs": [],
   "source": [
    "for x in mycol.find().limit(1):\n",
    "    print(x)"
   ]
  }
 ],
 "metadata": {
  "kernelspec": {
   "display_name": "Python 3.8.10 64-bit (windows store)",
   "language": "python",
   "name": "python3"
  },
  "language_info": {
   "codemirror_mode": {
    "name": "ipython",
    "version": 3
   },
   "file_extension": ".py",
   "mimetype": "text/x-python",
   "name": "python",
   "nbconvert_exporter": "python",
   "pygments_lexer": "ipython3",
   "version": "3.8.10"
  },
  "orig_nbformat": 4,
  "vscode": {
   "interpreter": {
    "hash": "bd08989110d52af84f87ec250935dd398044127260cff0c49051c9d8cccd3a76"
   }
  }
 },
 "nbformat": 4,
 "nbformat_minor": 2
}
