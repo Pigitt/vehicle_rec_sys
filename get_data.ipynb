{
 "cells": [
  {
   "cell_type": "code",
   "execution_count": 1,
   "metadata": {},
   "outputs": [],
   "source": [
    "import requests\n",
    "import json\n",
    "# from csv import reader \n",
    "import os\n",
    "import sys\n",
    "from bs4 import BeautifulSoup\n",
    "import time\n",
    "import random\n",
    "from lxml import etree\n",
    "import os\n",
    "import re\n",
    "import datetime\n",
    "import pymongo\n",
    "# # from selenium import webdriver\n"
   ]
  },
  {
   "cell_type": "code",
   "execution_count": null,
   "metadata": {},
   "outputs": [],
   "source": [
    "nowTime = datetime.datetime.now().strftime('%Y%m%d%H%M%S')"
   ]
  },
  {
   "cell_type": "code",
   "execution_count": null,
   "metadata": {},
   "outputs": [],
   "source": [
    "# year = ['2014','2015','2016','2017','2018','2019','2020','2021','2022']\n",
    "domain = 'https://www.caranddriver.com'\n",
    "# headers = {\n",
    "#         'Accept': '*/*',\n",
    "#         'Accept-Encoding': 'gzip, deflate, br',\n",
    "#         'Host':'www.kbb.com',\n",
    "#         'Referer':'https://www.kbb.com/car-reviews/',\n",
    "#         'Content-Type':'application/json',\n",
    "#         'User-Agent':'Mozilla/5.0 (Windows NT 10.0; Win64; x64) AppleWebKit/537.36 (KHTML, like Gecko) Chrome/99.0.4844.51 Safari/537.36'\n",
    "#         }"
   ]
  },
  {
   "cell_type": "code",
   "execution_count": null,
   "metadata": {},
   "outputs": [],
   "source": [
    "make=[\n",
    "'Acura',\n",
    "'Alfa-Romeo',\n",
    "'Aston-Martin',\n",
    "'Audi',\n",
    "'Bentley',\n",
    "'BMW',\n",
    "'Bugatti',\n",
    "'Buick',\n",
    "'Cadillac',\n",
    "'Chevrolet',\n",
    "'Chrysler',\n",
    "'Dodge',\n",
    "'Ferrari',\n",
    "'Fiat',\n",
    "'Ford',\n",
    "'Genesis',\n",
    "'GMC',\n",
    "'Honda',\n",
    "'Hyundai',\n",
    "'Infiniti',\n",
    "'Jaguar',\n",
    "'Jeep',\n",
    "'Kia',\n",
    "'Lamborghini',\n",
    "'Land-Rover',\n",
    "'Lexus',\n",
    "'Lincoln',\n",
    "'Lotus',\n",
    "'Maserati',\n",
    "'Mazda',\n",
    "'McLaren',\n",
    "# 'Mercedes-AMG',\n",
    "'Mercedes-Benz',\n",
    "# 'Mercedes-Maybach',\n",
    "'Mini',\n",
    "'Mitsubishi',\n",
    "'Nissan',\n",
    "'Polestar',\n",
    "'Porsche',\n",
    "'Ram',\n",
    "'Rolls-Royce',\n",
    "'Scion',\n",
    "'Smart',\n",
    "'Subaru',\n",
    "'Suzuki',\n",
    "'Tesla',\n",
    "'Toyota',\n",
    "'Volkswagen',\n",
    "'Volvo'\n",
    "]"
   ]
  },
  {
   "cell_type": "code",
   "execution_count": null,
   "metadata": {},
   "outputs": [],
   "source": [
    "def get_specs(url):\n",
    "    response = requests.get(url=url)\n",
    "    soup= BeautifulSoup(response.text, \"lxml\")\n",
    "    specs={}\n",
    "    for i in soup.select('div[class=\"css-qgjj1l e17ofjz23\"]'):\n",
    "        # print(i.select('button[class=\"css-17t01md e17ofjz22\"]')[0].text)\n",
    "        specs[i.select('button[class=\"css-17t01md e17ofjz22\"]')[0].text]={}\n",
    "        list=[]\n",
    "        for j in i.select('div[class=\"css-1ajawdl e2zahha0\"]'):\n",
    "            try:\n",
    "                specs[i.select('button[class=\"css-17t01md e17ofjz22\"]')[0].text][j.contents[0].text]=j.contents[1].text\n",
    "                # print(j.contents[0].text,j.contents[1].text)\n",
    "            except IndexError:\n",
    "                list.append(j.contents[0].text)\n",
    "                # print(j.contents[0].text)\n",
    "                specs[i.select('button[class=\"css-17t01md e17ofjz22\"]')[0].text]=list\n",
    "    return specs\n",
    "def get_rates(url):\n",
    "    response = requests.get(url=url)\n",
    "    soup= BeautifulSoup(response.text, \"lxml\")\n",
    "    # html = etree.HTML(response.text)\n",
    "    # html.xpath()\n",
    "    rate={}\n",
    "    try:\n",
    "        star={}\n",
    "        for i in soup.select('div[class=\"eov6l8h1 css-4dxonz ehh6yb86\"]'):\n",
    "            star[i.select('span[class=\"css-ihxznl ehh6yb82\"]')[0].text]=i.select('span[class=\"css-1c6thby ehh6yb83\"]')[0].text\n",
    "        mark={}\n",
    "        for i in soup.select('div[class=\"css-12jjwzq\"]'):\n",
    "            mark[i.select('div[class=\"css-1rttn8x\"]')[0].text]=i.select('div[class=\"css-sf59yt\"]')[0].text\n",
    "            # print(i.select('div[class=\"css-1rttn8x\"]')[0].text,i.select('div[class=\"css-sf59yt\"]')[0].text)\n",
    "        rate={\n",
    "        'overall':soup.select('div[class=\"css-wti69m\"]')[0].text,\n",
    "        'count':re.findall('.*\\([^\\)\\(\\d]*(\\d+)[^\\)\\(\\d]*\\).*',soup.select('div[class=\"css-14z3b1p\"]')[0].text)[0],\n",
    "        'recby': soup.select('span[class=\"css-19pqkoc e1agtnah1\"]')[0].text,\n",
    "        'star':star,\n",
    "        'mark':mark\n",
    "        }\n",
    "    except IndexError:\n",
    "        pass\n",
    "    return rate"
   ]
  },
  {
   "cell_type": "code",
   "execution_count": null,
   "metadata": {},
   "outputs": [],
   "source": [
    "# get url for Specs & Rate\n",
    "for m in make:\n",
    "    url_main=domain+'/'+m.lower()\n",
    "    response = requests.get(url=url_main)\n",
    "    soup=soup= BeautifulSoup(response.text, \"lxml\")\n",
    "    href=soup.select('a[class=\"vehicle-item-title item-title\"]')\n",
    "    vehicle={}\n",
    "    for u in href:\n",
    "        url_each=domain+u.get('href')\n",
    "        print(url_each)\n",
    "        response = requests.get(url=url_each)\n",
    "        soup= BeautifulSoup(response.text, \"lxml\")\n",
    "        name=soup.select('h1[class=\"css-i4j13t e10ise8i2\"]')[0].text\n",
    "        try:\n",
    "            year=soup.select('a[class^=\"current\"]')[0].text    \n",
    "        except IndexError:\n",
    "            try :\n",
    "                year=soup.select('span[itemprop=\"name\"]')[3].text\n",
    "            except IndexError:\n",
    "                year=re.findall('(^\\d{4})',soup.select('h1[class=\"css-i4j13t e10ise8i2\"]')[0].text)[0]\n",
    "        make=soup.select('span[itemprop=\"name\"]')[1].text\n",
    "        model=soup.select('span[itemprop=\"name\"]')[2].text\n",
    "        # price=soup.select('div[class=\"css-48aaf9 e1zcv6h1\"]')[0].text\n",
    "        kbb_url='https://www.kbb.com'+'/'+make.replace(' ','-').lower()+'/'+model.replace(' ','-').lower()+'/'+year+'/consumer-reviews'\n",
    "        vehicle[name]={\n",
    "            'year':year,\n",
    "            'make':make,\n",
    "            'model':model}\n",
    "        try:\n",
    "            price=re.findall('\\d+',soup.select('span[class=\"css-1ykuyyb e10ise8i0\"]')[0].text.replace(',',''))[0]\n",
    "        except IndexError:\n",
    "            price=''\n",
    "        vehicle[name]['price']=price\n",
    "        vehicle[name]['kbb_url']=kbb_url\n",
    "        vehicle[name]['rate']=get_rates(kbb_url)\n",
    "        try:\n",
    "            cnd_url=domain+soup.select('#main-content > header > div.css-16uv341.endngjl0 > div.css-70qvj9.e17a0kax2 > div > a[title=\"Specs\"]')[0].attrs['href']\n",
    "            vehicle[name]['cnd_url']=cnd_url\n",
    "            vehicle[name]['specs']=get_specs(cnd_url)\n",
    "        except IndexError:\n",
    "            vehicle[name]['cnd_url']=''\n",
    "            vehicle[name]['specs']={}\n",
    "\n",
    "    with open(m+'.json', \"w\") as dump_f:\n",
    "        json.dump(vehicle, dump_f, indent=4)"
   ]
  },
  {
   "cell_type": "code",
   "execution_count": null,
   "metadata": {},
   "outputs": [],
   "source": [
    "# for test\n",
    "url='https://www.caranddriver.com/porsche/911-gt3-gt3-rs'\n",
    "response = requests.get(url=url)\n",
    "soup= BeautifulSoup(response.text, \"lxml\")"
   ]
  },
  {
   "cell_type": "code",
   "execution_count": null,
   "metadata": {},
   "outputs": [],
   "source": [
    "#get latest vehicle\n",
    "renew_dict={}\n",
    "renew_dict={\n",
    "'name':soup.select('div[class=\"vehicle-item tower-ad-story\"] a[class=\"vehicle-item-title item-title\"]')[0].text,\n",
    "'latest_url':domain+soup.select('div[class=\"vehicle-item tower-ad-story\"] a[class=\"vehicle-item-title item-title\"]')[0].get('href')\n",
    "}"
   ]
  },
  {
   "cell_type": "code",
   "execution_count": null,
   "metadata": {},
   "outputs": [],
   "source": [
    "#get each model from car&driver\n",
    "soup.select('select[id=\"styleSelect\"] option[value!=\"0\"]:not([selected=\"\"])')\n",
    "str1='https://www.kbb.com/fiat/500x/2022/consumer-reviews'\n",
    "re.findall('^(.*[\\\\\\/])',str1) #获取/后所有\n",
    "# re.findall('[^/]+(?!.*/)',str1)#获取/前所有\n",
    "year=re.findall('(^\\d{4})',name)[0]\n",
    "make=re.findall('[^ ]+',name)[1]\n",
    "model=' '.join(re.findall('[^ ]+',name)[2:])"
   ]
  },
  {
   "cell_type": "code",
   "execution_count": null,
   "metadata": {},
   "outputs": [],
   "source": [
    "# jsonPath=os.path\n",
    "for m in make:\n",
    "       with open('.\\data\\\\'+m+'.json','r',encoding = 'utf-8') as load_f:\n",
    "              load_dict = json.load(load_f)\n",
    "              for i in load_dict:\n",
    "                     load_dict[i]['name']=i\n",
    "       with open('.\\data\\\\'+m+'.json','w',encoding = 'utf-8') as dump_f:\n",
    "              json.dump(load_dict,dump_f,indent = 4,sort_keys = True)\n"
   ]
  },
  {
   "cell_type": "code",
   "execution_count": 4,
   "metadata": {},
   "outputs": [],
   "source": [
    "client=pymongo.MongoClient(\"mongodb://localhost:27017/\")\n",
    "mydb = client['vehicledb']\n",
    "mycol = mydb['vehicle']"
   ]
  },
  {
   "cell_type": "code",
   "execution_count": null,
   "metadata": {},
   "outputs": [],
   "source": [
    "for m in make:\n",
    "       with open('.\\data\\\\'+m+'.json','r',encoding = 'utf-8') as load_f:\n",
    "            load_dict = json.load(load_f)\n",
    "            for i in load_dict:\n",
    "                x = mycol.insert_one(load_dict[i]) "
   ]
  },
  {
   "cell_type": "code",
   "execution_count": null,
   "metadata": {},
   "outputs": [],
   "source": [
    "# 删除collections\n",
    "mycol.delete_many({})"
   ]
  },
  {
   "cell_type": "code",
   "execution_count": 2,
   "metadata": {},
   "outputs": [
    {
     "data": {
      "text/plain": [
       "'20220819'"
      ]
     },
     "execution_count": 2,
     "metadata": {},
     "output_type": "execute_result"
    }
   ],
   "source": [
    "'vehicle' + \"_\" + \"\".join(str(datetime.date.today()).split('-'))"
   ]
  },
  {
   "cell_type": "code",
   "execution_count": 5,
   "metadata": {},
   "outputs": [
    {
     "name": "stdout",
     "output_type": "stream",
     "text": [
      "{'_id': ObjectId('630019002991fc578accf2ce'), 'cnd_url': 'https://www.caranddriver.com/acura/rl/specs', 'kbb_url': 'https://www.kbb.com/acura/rl/2012/consumer-reviews', 'make': 'Acura', 'model': 'RL', 'name': '2012 Acura RL', 'price': '49095', 'rate': {'count': '163', 'mark': {'Comfort': '4.8', 'Performance': '4.7', 'Quality': '4.7', 'Reliability': '4.8', 'Styling': '4.7', 'Value': '4.7'}, 'overall': '4.7', 'recby': '95%', 'star': {'1': '1%', '2': '1%', '3': '7%', '4': '12%', '5': '79%'}}, 'specs': {'Brakes': {'Anti-Lock-Braking System': '4-Wheel', 'Brake Type': 'Pwr', 'Front Brake Rotors, diameter x thickness (inches)': '12.6 x -TBD-', 'Rear Brake Rotors, diameter x thickness (inches)': '12.2 x -TBD-', 'Rear Drums, diameter x width (inches)': 'NA'}, 'Cargo Area Dimensions': {'Trunk Space (cubic feet)': '13.8'}, 'Electrical': {'Cold Cranking Amps @ 0° F': 'NA', 'Maximum Alternator Capacity (amps)': '130'}, 'Engine': {'Cooling System Capacity (quarts)': '9.1', 'Displacement (liters/cubic inches)': '3.7L/224', 'Engine Order Code': 'NA', 'Engine Type and Required Fuel': 'Gas V6', 'Fuel System': 'Electronic Fuel Injection', 'Maximum Horsepower @ RPM': '300 @ 6300', 'Maximum Torque @ RPM': '271 @ 5000'}, 'Entertainment': ['Bose AM/FM stereo w/6-disc in-dash CD/MP3/DVD changer -inc: WMA player, (10) speakers, surround sound system, active sound control, USB port, aux input jack, DTS', 'XM satellite radio -inc: note function music-reminder *Available in 48 contiguous United States, first 90 days are free*', 'Integrated in-glass antenna', 'Bluetooth audio -inc: HandsFreeLink interface, phone book exchange'], 'Exterior': ['18\" x 8\" alloy wheels', 'P245/45VR18 all-season performance tires', 'Temporary spare tire', 'Pwr moonroof w/tilt, auto-open/close, auto-reverse, key-off operation', 'Body-color moldings', 'Xenon high intensity discharge (HID) headlights w/auto-on/off feature', 'Active front lighting', 'Front fog lights', 'Heated pwr folding mirrors w/integrated turn signals, reverse gear tilt-down, driver memory', 'Acoustic glass front windshield', 'Heat-rejecting green-tinted safety glass', 'Speed-sensitive variable intermittent windshield wipers', 'Body-color door handles', 'Front illuminated door handle recesses'], 'Exterior Dimensions': {'Front Track Width (inches)': '62.0', 'Height (inches)': '57.2', 'Length (inches)': '195.8', 'Liftover Height (inches)': 'NA', 'Minimum Ground Clearance (inches)': '5.7', 'Rear Track Width (inches)': '62.4', 'Wheelbase (inches)': '110.2', 'Width, without mirrors (inches)': '72.7'}, 'Fuel Economy and Range': {'CO2 Emissions, 15K mi/year (tons)': '9.1', 'EPA Fuel Economy Equivalent (for hybrid and electric vehicles), combined/city/highway (MPGe)': 'N/A / N/A / N/A', 'EPA Fuel Economy, combined/city/highway (mpg)': '20 / 17 / 24', 'EPA Greenhouse Gas Score': '4', 'Range, city/highway (miles)': '329.80 / 465.60'}, 'Fuel Tank': {'Aux Fuel Tank Capacity (gallons)': 'NA', 'Fuel Capacity / Gas Tank Size': '19.4'}, 'Interior': ['Leather 10-way pwr front bucket seats -inc: heated/cooled ventilation, pwr lumbar, driver memory', 'Pwr actuated retractable rear headrests', 'Front center armrest w/dual-level illuminated storage', 'Folding rear center armrest w/locking trunk pass-through', 'Front/rear carpeted floor mats (2010)', 'Leather-wrapped pwr tilt/telescopic steering wheel w/wood trim, driver memory', 'Steering wheel mounted controls -inc: cruise control, audio, telephone, voice recognition, multi-info display', 'Genuine handcrafted wood instrument panel', 'Theft deterrent system w/electronic immobilizer', 'Dual trip meters', 'Trip computer', 'Maintenance Minder system', 'LED backlit gauges w/progressive illumination', 'Exterior temp display w/compass', 'Pwr windows w/auto up/down, auto-reverse, key-off feature', 'Pwr door locks', 'Smart keyless entry system -inc: keyless start, windows-open function, driver recognition for seat, steering wheel, exterior mirrors, climate control, audio settings, navigation settings', 'Satellite-linked navigation system w/voice recognition, rearview camera, Zagat Survey rating', 'AcuraLink Real-Time Weather & Traffic w/Traffic Rerouting -inc: automated appointments', 'HomeLink remote system', 'Adaptive cruise control', 'Remote trunk/fuel filler door releases', 'Security alarm system', 'GPS-linked solar-sensing dual zone auto climate control system w/air filtration', 'Rear heater vents', 'Rear window defroster w/timer', 'Dual front & rear cup holders', '(2) 12-volt pwr outlets', 'Wood interior trim', 'Front door storage pockets', 'Electrochromic rearview mirror', 'Pwr rear sunshade & manual side rear sunshades', 'Dual illuminated visor vanity mirrors', 'Front/rear overhead map lights', 'Ambient cabin lighting', 'Leather-wrapped gear shift knob w/wood trim', 'Driver & front passenger seatback pockets'], 'Interior Dimensions': {'Front Head Room (inches)': '38.5', 'Front Hip Room (inches)': '55.1', 'Front Leg Room (inches)': '42.4', 'Front Shoulder Room (inches)': '58.5', 'Passenger / Seating Capacity': '5', 'Second Row Head Room (inches)': '37.2', 'Second Row Hip Room (inches)': '54.0', 'Second Row Leg Room (inches)': '36.3', 'Second Row Shoulder Room (inches)': '56.1', 'Total Passenger Volume (cubic feet)': '99.1'}, 'Mechanical': ['3.7L SOHC PGM-FI 24-valve VTEC V6 engine', 'Drive-by-Wire throttle system', 'Direct ignition system w/knock control', '6-speed sequential SportShift automatic transmission w/OD -inc: grade logic control, paddle shifters', 'Super-Handling All-Wheel Drive (SH-AWD)', '12V maintenance-free battery', '130-amp alternator', 'Independent double-wishbone front suspension w/coil springs', 'Independent multi-link rear suspension w/coil springs', 'Front/rear stabilizer bars', 'Speed-sensitive pwr rack & pinion steering', '4-wheel anti-lock disc brakes w/electronic brake distribution (EBD), brake assist', 'Integrated dual-outlet exhaust'], 'Safety': ['Collision Mitigation Braking System (CMBS) -inc: audio/visual alert for frontal crash', 'Vehicle Stability Assist (VSA) w/traction control', 'Side-impact door beams', 'Impact absorbing front/rear crumple zones', 'Daytime running lights', 'Advance Compatibility Engineering (ACE) body structure', 'Driver & front passenger dual-stage dual-threshold airbag supplemental restraint system', 'Front side impact airbags w/passenger occupant position detection system', 'Front/rear side curtain airbags', '3-point front seat belts w/height adjustment, load limiters -inc: front e-pretensioner system', '3-point rear seat belts', 'Rear parking sensors', 'Active front head restraints', 'Lower anchors & tethers for children (LATCH)', 'Child-proof rear door locks', 'Emergency trunk opener', 'Tire pressure monitor w/location & pressure indicators'], 'Steering': {'Steering Ratio (:1)': '16.1', 'Steering Type': 'Pwr Rack & Pinion', 'Turning Diameter / Radius, curb to curb (feet)': '38.7', 'Turning Diameter / Radius, wall to wall (feet)': 'NA', 'Turns, lock to lock': '3.0'}, 'Suspension': {'Front Anti-Roll Bar Diameter (inches)': '1.18', 'Front Shock Absorber Diameter (mm)': 'NA', 'Front Suspension Type': 'Independent', 'Rear Anti-Roll Bar Diameter (inches)': '0.75', 'Rear Shock Absorber Diameter (mm)': 'NA', 'Rear Suspension Type': 'Multi-Link'}, 'Towing': {'Maximum Tongue Weight, dead weight hitch (pounds)': 'NA', 'Maximum Tongue Weight, weight distributing hitch (pounds)': 'NA', 'Maximum Trailer Weight, dead weight hitch (pounds)': 'NA', 'Maximum Trailer Weight, weight distributing hitch (pounds)': 'NA'}, 'Transmission': {'Clutch Size': 'NA', 'Fifth Gear Ratio (:1)': '0.75', 'Final Drive Axle Ratio (:1)': '3.72', 'First Gear Ratio (:1)': '3.36', 'Fourth Gear Ratio (:1)': '1.07', 'Number of Transmission Speeds': '6', 'Reverse Ratio (:1)': '2.27', 'Second Gear Ratio (:1)': '2.10', 'Sixth Gear Ratio (:1)': '0.56', 'Third Gear Ratio (:1)': '1.49', 'Transmission Description': 'Automatic', 'Transmission Order Code': 'NA'}, 'Vehicle': {'Drivetrain': 'All Wheel Drive', 'EPA Classification': 'Mid-Size'}, 'Warranty': ['4 Basic Years / 50,000 Basic Miles', '6 Drivetrain Years / 70,000 Drivetrain Miles', '5 Corrosion Years / Unlimited Corrosion Miles', '4 Roadside Assistance Years / 50,000 Roadside Assistance Miles'], 'Weight Information': {'Base Curb Weight (pounds)': '4112'}, 'Wheels and Tires': {'Front Tire Size': 'P245/45VR18', 'Front Wheel Material': 'Aluminum', 'Front Wheel Size (inches)': '18 x 8.0', 'Rear Tire Size': 'P245/45VR18', 'Rear Wheel Material': 'Aluminum', 'Rear Wheel Size (inches)': '18 x 8.0', 'Spare Tire Size': 'Compact', 'Spare Wheel Material': 'Steel', 'Spare Wheel Size (inches)': 'Compact'}}, 'year': '2012'}\n"
     ]
    }
   ],
   "source": [
    "for x in mycol.find().limit(1):\n",
    "    print(x)"
   ]
  }
 ],
 "metadata": {
  "kernelspec": {
   "display_name": "Python 3.8.10 64-bit (windows store)",
   "language": "python",
   "name": "python3"
  },
  "language_info": {
   "codemirror_mode": {
    "name": "ipython",
    "version": 3
   },
   "file_extension": ".py",
   "mimetype": "text/x-python",
   "name": "python",
   "nbconvert_exporter": "python",
   "pygments_lexer": "ipython3",
   "version": "3.8.10"
  },
  "orig_nbformat": 4,
  "vscode": {
   "interpreter": {
    "hash": "bd08989110d52af84f87ec250935dd398044127260cff0c49051c9d8cccd3a76"
   }
  }
 },
 "nbformat": 4,
 "nbformat_minor": 2
}
